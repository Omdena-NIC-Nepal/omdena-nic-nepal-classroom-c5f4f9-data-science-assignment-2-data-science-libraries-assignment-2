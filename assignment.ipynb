{
 "cells": [
  {
   "cell_type": "code",
   "execution_count": 1,
   "metadata": {},
   "outputs": [],
   "source": [
    "import pandas as pd"
   ]
  },
  {
   "cell_type": "markdown",
   "metadata": {},
   "source": [
    "# Task 1"
   ]
  },
  {
   "cell_type": "code",
   "execution_count": 4,
   "metadata": {},
   "outputs": [
    {
     "name": "stdout",
     "output_type": "stream",
     "text": [
      "    Name  age      city\n",
      "0   John   23  New York\n",
      "1   Anna   36     Paris\n",
      "2  Peter   32    Berlin\n",
      "3  Linda   45    London\n"
     ]
    }
   ],
   "source": [
    "#Create dataframe from dictionary\n",
    "data = {'Name': ['John', 'Anna', 'Peter', 'Linda'],'age':[23, 36, 32, 45],'city':['New York', 'Paris', 'Berlin', 'London']}\n",
    "df = pd.DataFrame(data)\n",
    "print(df)"
   ]
  },
  {
   "cell_type": "code",
   "execution_count": 12,
   "metadata": {},
   "outputs": [
    {
     "name": "stdout",
     "output_type": "stream",
     "text": [
      "      name  age         city\n",
      "0    Alice   25     New York\n",
      "1      Bob   30  Los Angeles\n",
      "2  Charlie   35      Chicago\n"
     ]
    }
   ],
   "source": [
    "# create a dataframe from list of dictionaries\n",
    "data1 = [\n",
    "    {\"name\": \"Alice\", \"age\": 25, \"city\": \"New York\"},\n",
    "    {\"name\": \"Bob\", \"age\": 30, \"city\": \"Los Angeles\"},\n",
    "    {\"name\": \"Charlie\", \"age\": 35, \"city\": \"Chicago\"}\n",
    "]\n",
    "df = pd.DataFrame(data1)\n",
    "print(df)"
   ]
  },
  {
   "cell_type": "code",
   "execution_count": 14,
   "metadata": {},
   "outputs": [
    {
     "name": "stdout",
     "output_type": "stream",
     "text": [
      "                Name   Age                Email      Country    Salary  \\\n",
      "0            invalid  59.0  ycastro@example.org  Switzerland  44694.24   \n",
      "1    David Jefferson  21.0                  NaN        China       NaN   \n",
      "2      Jessica Reyes  34.0                  NaN          NaN  60511.62   \n",
      "3  Kenneth Macdonald  68.0    ewolf@example.com        Italy  84223.29   \n",
      "4        Julie Horne  78.0                  NaN      Ecuador  24665.13   \n",
      "\n",
      "  DateOfJoining  \n",
      "0    2022-09-29  \n",
      "1    2021-10-04  \n",
      "2    2022-05-24  \n",
      "3    2022-04-07  \n",
      "4    2020-06-19  \n"
     ]
    }
   ],
   "source": [
    "# Load the dataset\n",
    "df = pd.read_csv('messed_dataset.csv')\n",
    "print(df.head())"
   ]
  },
  {
   "cell_type": "markdown",
   "metadata": {},
   "source": [
    "# Task 2\n",
    "\n",
    "- Basic Data Cleaning"
   ]
  },
  {
   "cell_type": "code",
   "execution_count": 5,
   "metadata": {},
   "outputs": [],
   "source": [
    "# Your code goes here"
   ]
  },
  {
   "cell_type": "code",
   "execution_count": 15,
   "metadata": {},
   "outputs": [
    {
     "name": "stdout",
     "output_type": "stream",
     "text": [
      "                Name   Age                Email      Country    Salary  \\\n",
      "0            invalid  59.0  ycastro@example.org  Switzerland  44694.24   \n",
      "1    David Jefferson  21.0                  NaN        China       NaN   \n",
      "2      Jessica Reyes  34.0                  NaN          NaN  60511.62   \n",
      "3  Kenneth Macdonald  68.0    ewolf@example.com        Italy  84223.29   \n",
      "4        Julie Horne  78.0                  NaN      Ecuador  24665.13   \n",
      "\n",
      "  DateOfJoining  \n",
      "0    2022-09-29  \n",
      "1    2021-10-04  \n",
      "2    2022-05-24  \n",
      "3    2022-04-07  \n",
      "4    2020-06-19  \n",
      "                  Name   Age                     Email            Country  \\\n",
      "95    Garrett Davidson  56.0        gjames@example.com    Solomon Islands   \n",
      "96      Elizabeth Ross  52.0  richardlewis@example.net  Equatorial Guinea   \n",
      "97                 NaN  72.0       brian50@example.com            Somalia   \n",
      "98      Patricia Singh  65.0      lramirez@example.org             Greece   \n",
      "99  Christopher Stokes  42.0                       NaN       South Africa   \n",
      "\n",
      "      Salary DateOfJoining  \n",
      "95  86227.88           NaN  \n",
      "96  29992.69    2020-04-08  \n",
      "97  90628.22    2020-04-11  \n",
      "98  85290.44    2020-03-18  \n",
      "99  20289.17    2021-09-23  \n"
     ]
    }
   ],
   "source": [
    "# Display the first and last few rows of the DataFrame.\n",
    "print(df.head())\n",
    "print(df.tail())"
   ]
  },
  {
   "cell_type": "code",
   "execution_count": 16,
   "metadata": {},
   "outputs": [
    {
     "name": "stdout",
     "output_type": "stream",
     "text": [
      "<class 'pandas.core.frame.DataFrame'>\n",
      "RangeIndex: 100 entries, 0 to 99\n",
      "Data columns (total 6 columns):\n",
      " #   Column         Non-Null Count  Dtype \n",
      "---  ------         --------------  ----- \n",
      " 0   Name           89 non-null     object\n",
      " 1   Age            97 non-null     object\n",
      " 2   Email          80 non-null     object\n",
      " 3   Country        86 non-null     object\n",
      " 4   Salary         94 non-null     object\n",
      " 5   DateOfJoining  79 non-null     object\n",
      "dtypes: object(6)\n",
      "memory usage: 4.8+ KB\n",
      "None\n",
      "           Name   Age                Email Country   Salary DateOfJoining\n",
      "count        89    97                   80      86       94            79\n",
      "unique       85    53                   80      76       93            79\n",
      "top     invalid  76.0  ycastro@example.org   China  invalid    2022-09-29\n",
      "freq          5     6                    1       2        2             1\n"
     ]
    }
   ],
   "source": [
    "# Get a summary of the DataFrame, including basic statistics and data types.\n",
    "\n",
    "print(df.info())\n",
    "print(df.describe())"
   ]
  },
  {
   "cell_type": "code",
   "execution_count": 17,
   "metadata": {},
   "outputs": [
    {
     "name": "stdout",
     "output_type": "stream",
     "text": [
      "(100, 6)\n",
      "Index(['Name', 'Age', 'Email', 'Country', 'Salary', 'DateOfJoining'], dtype='object')\n"
     ]
    }
   ],
   "source": [
    "# Display the shape and column names of the DataFrame.\n",
    "print(df.shape)\n",
    "print(df.columns)"
   ]
  },
  {
   "cell_type": "markdown",
   "metadata": {},
   "source": [
    "# Task 3\n",
    "- Data Analysis. Analyse the data by giving the summary statistics, and more information about the data\n"
   ]
  },
  {
   "cell_type": "code",
   "execution_count": 20,
   "metadata": {},
   "outputs": [
    {
     "name": "stdout",
     "output_type": "stream",
     "text": [
      "0                invalid\n",
      "1        David Jefferson\n",
      "2          Jessica Reyes\n",
      "3      Kenneth Macdonald\n",
      "4            Julie Horne\n",
      "             ...        \n",
      "95      Garrett Davidson\n",
      "96        Elizabeth Ross\n",
      "97                   NaN\n",
      "98        Patricia Singh\n",
      "99    Christopher Stokes\n",
      "Name: Name, Length: 100, dtype: object\n",
      "                  Name   Age\n",
      "0              invalid  59.0\n",
      "1      David Jefferson  21.0\n",
      "2        Jessica Reyes  34.0\n",
      "3    Kenneth Macdonald  68.0\n",
      "4          Julie Horne  78.0\n",
      "..                 ...   ...\n",
      "95    Garrett Davidson  56.0\n",
      "96      Elizabeth Ross  52.0\n",
      "97                 NaN  72.0\n",
      "98      Patricia Singh  65.0\n",
      "99  Christopher Stokes  42.0\n",
      "\n",
      "[100 rows x 2 columns]\n"
     ]
    }
   ],
   "source": [
    "# Your code goes here\n",
    "\n",
    "# Select a single column and multiple columns.\n",
    "print(df['Name'])\n",
    "print(df[['Name', 'Age']])"
   ]
  },
  {
   "cell_type": "code",
   "execution_count": 25,
   "metadata": {},
   "outputs": [
    {
     "name": "stdout",
     "output_type": "stream",
     "text": [
      "Name                         invalid\n",
      "Age                             59.0\n",
      "Email            ycastro@example.org\n",
      "Country                  Switzerland\n",
      "Salary                      44694.24\n",
      "DateOfJoining             2022-09-29\n",
      "Name: 0, dtype: object\n",
      "Name                     Jonathan Holland\n",
      "Age                                  26.0\n",
      "Email            mayercaitlin@example.org\n",
      "Country                          Cameroon\n",
      "Salary                           25660.99\n",
      "DateOfJoining                  2023-05-01\n",
      "Name: 5, dtype: object\n",
      "              Name   Age                Email      Country    Salary  \\\n",
      "0          invalid  59.0  ycastro@example.org  Switzerland  44694.24   \n",
      "1  David Jefferson  21.0                  NaN        China       NaN   \n",
      "2    Jessica Reyes  34.0                  NaN          NaN  60511.62   \n",
      "\n",
      "  DateOfJoining  \n",
      "0    2022-09-29  \n",
      "1    2021-10-04  \n",
      "2    2022-05-24  \n"
     ]
    }
   ],
   "source": [
    "# Select rows by index and by label.\n",
    "print(df.iloc[0]) # Select the first row\n",
    "print(df.loc[5])    # Select the row with index 5\n",
    "\n",
    "print(df.loc[[0, 1, 2]])    # Select multiple rows by label"
   ]
  },
  {
   "cell_type": "markdown",
   "metadata": {},
   "source": [
    "# Task 4\n",
    "- Handling Missing Data"
   ]
  },
  {
   "cell_type": "code",
   "execution_count": 32,
   "metadata": {},
   "outputs": [
    {
     "name": "stdout",
     "output_type": "stream",
     "text": [
      "Name             11\n",
      "Age               3\n",
      "Email            20\n",
      "Country          14\n",
      "Salary            6\n",
      "DateOfJoining    21\n",
      "dtype: int64\n",
      "                  Name   Age                        Email  \\\n",
      "1      David Jefferson  21.0                          NaN   \n",
      "2        Jessica Reyes  34.0                          NaN   \n",
      "4          Julie Horne  78.0                          NaN   \n",
      "6          James Clark  80.0          ynguyen@example.net   \n",
      "8    Barbara Armstrong  22.0        fmitchell@example.com   \n",
      "11        Keith Deleon  56.0       josephwall@example.com   \n",
      "12       Kelly Schultz  21.0                          NaN   \n",
      "14         James Lloyd  53.0                          NaN   \n",
      "16                 NaN  73.0   johnstonkrista@example.com   \n",
      "17                 NaN   NaN          julia08@example.com   \n",
      "18          Greg Gates  77.0                          NaN   \n",
      "19            Amy Sims  31.0                          NaN   \n",
      "21         Mark Barber  60.0        davidcook@example.net   \n",
      "22          John Hicks  30.0          catkins@example.org   \n",
      "25                 NaN  20.0                          NaN   \n",
      "26                 NaN  59.0            amy02@example.net   \n",
      "27                 NaN  71.0  gillespiecalvin@example.net   \n",
      "30      Raven Thompson  77.0     brandibarnes@example.com   \n",
      "31        William Peck  26.0    christopher37@example.org   \n",
      "32                 NaN  57.0    danielperkins@example.org   \n",
      "33          Laura Pham  69.0                          NaN   \n",
      "34       David Shields  55.0           brad93@example.net   \n",
      "38        Lindsey York  38.0                          NaN   \n",
      "39        Lauren Ramos  80.0         tracey07@example.net   \n",
      "41        Nichole Mora  52.0      turnersarah@example.net   \n",
      "42      Calvin Herrera  21.0                          NaN   \n",
      "45     Melanie Buckley  35.0                          NaN   \n",
      "46    Marissa Williams  18.0                          NaN   \n",
      "47       Matthew Stone   NaN     jessicamoody@example.com   \n",
      "48     Charles Sanchez  28.0     jenkinsmaria@example.net   \n",
      "50                 NaN  33.0      robertsmith@example.net   \n",
      "53     Kristin Stewart  70.0                          NaN   \n",
      "54           Julie Kim  77.0          rmorgan@example.net   \n",
      "55      James Williams  69.0                          NaN   \n",
      "56        Melissa Cook  51.0   thompsonhunter@example.org   \n",
      "57             invalid  19.0                          NaN   \n",
      "62                 NaN  24.0        katelyn76@example.net   \n",
      "63     Wesley Whitaker  47.0                          NaN   \n",
      "65                 NaN  68.0       guyjohnson@example.com   \n",
      "66        Karen Peters  58.0         ricelisa@example.net   \n",
      "67                 NaN  47.0      stephanie20@example.net   \n",
      "71        Chase Parker  27.0                          NaN   \n",
      "75             invalid   NaN       ericnguyen@example.com   \n",
      "76     Angela Thompson  73.0   petersonshelby@example.org   \n",
      "77       Phillip Garza  49.0     brandimclean@example.org   \n",
      "79    Shannon Gonzalez  22.0           jean37@example.net   \n",
      "90             invalid  43.0                          NaN   \n",
      "95    Garrett Davidson  56.0           gjames@example.com   \n",
      "97                 NaN  72.0          brian50@example.com   \n",
      "99  Christopher Stokes  42.0                          NaN   \n",
      "\n",
      "                                              Country    Salary DateOfJoining  \n",
      "1                                               China       NaN    2021-10-04  \n",
      "2                                                 NaN  60511.62    2022-05-24  \n",
      "4                                             Ecuador  24665.13    2020-06-19  \n",
      "6                                                 NaN  61345.33           NaN  \n",
      "8                                                 NaN       NaN           NaN  \n",
      "11                            Cocos (Keeling) Islands  23361.13           NaN  \n",
      "12                                           Kiribati  93448.73    2023-07-24  \n",
      "14                                                NaN       NaN           NaN  \n",
      "16                                       Cook Islands  24176.12    2022-10-11  \n",
      "17                                          Venezuela  93339.52    2020-11-11  \n",
      "18                                                NaN  54383.22    2024-05-13  \n",
      "19                                            Bolivia  51559.83    2023-08-22  \n",
      "21                                                NaN  96746.83    2021-02-27  \n",
      "22                                             Mexico  80906.51           NaN  \n",
      "25                          Bouvet Island (Bouvetoya)  73892.64    2023-08-26  \n",
      "26                                           Anguilla  56583.58           NaN  \n",
      "27                               Syrian Arab Republic  71049.67    2020-01-20  \n",
      "30                                              Korea  76460.86           NaN  \n",
      "31                                                NaN  42155.66           NaN  \n",
      "32                                           Barbados  78620.54    2024-05-17  \n",
      "33                                             Israel  45046.19    2024-04-01  \n",
      "34                                            Burundi       NaN    2023-11-27  \n",
      "38                                             Mexico  97896.77    2022-03-05  \n",
      "39                                             Zambia  74110.67           NaN  \n",
      "41                                             Angola  64674.33           NaN  \n",
      "42                                              China  50975.46           NaN  \n",
      "45                                               Mali  78258.04           NaN  \n",
      "46                                                NaN  46658.98    2020-07-14  \n",
      "47                                                NaN  28874.43    2020-07-06  \n",
      "48                                              Chile       NaN           NaN  \n",
      "50                                            Nigeria  99405.51           NaN  \n",
      "53                                                NaN   73952.9    2021-09-06  \n",
      "54                                                NaN   46532.6    2021-03-07  \n",
      "55                                            Lesotho  84632.67           NaN  \n",
      "56                                                NaN  52040.14    2022-04-04  \n",
      "57                                                NaN  36728.76    2021-04-22  \n",
      "62                                              Yemen  61256.89    2020-01-06  \n",
      "63  British Indian Ocean Territory (Chagos Archipe...  97832.79    2020-12-20  \n",
      "65                                              Sudan  80279.35    2022-10-21  \n",
      "66                                              Yemen  36736.59           NaN  \n",
      "67                                              Macao  36365.55           NaN  \n",
      "71                                            Belgium   28097.5           NaN  \n",
      "75                                Trinidad and Tobago  49670.61    2020-11-22  \n",
      "76                                            Albania       NaN    2023-05-09  \n",
      "77                                            Georgia  34326.41           NaN  \n",
      "79                                                NaN  64831.97           NaN  \n",
      "90                                          Indonesia   41928.2    2020-05-08  \n",
      "95                                    Solomon Islands  86227.88           NaN  \n",
      "97                                            Somalia  90628.22    2020-04-11  \n",
      "99                                       South Africa  20289.17    2021-09-23  \n"
     ]
    }
   ],
   "source": [
    "# Identify missing values in the DataFrame.\n",
    "print(df.isnull().sum())\n",
    "# Identify missing values in the DataFrame.\n",
    "print(df[df.isnull().any(axis=1)])"
   ]
  },
  {
   "cell_type": "markdown",
   "metadata": {},
   "source": [
    "# Data Visualization\n",
    "- Visualize the data by using the visualization libraries"
   ]
  },
  {
   "cell_type": "code",
   "execution_count": 7,
   "metadata": {},
   "outputs": [],
   "source": [
    "# Your code goes here"
   ]
  },
  {
   "cell_type": "code",
   "execution_count": null,
   "metadata": {},
   "outputs": [],
   "source": []
  }
 ],
 "metadata": {
  "kernelspec": {
   "display_name": "base",
   "language": "python",
   "name": "python3"
  },
  "language_info": {
   "codemirror_mode": {
    "name": "ipython",
    "version": 3
   },
   "file_extension": ".py",
   "mimetype": "text/x-python",
   "name": "python",
   "nbconvert_exporter": "python",
   "pygments_lexer": "ipython3",
   "version": "3.12.4"
  }
 },
 "nbformat": 4,
 "nbformat_minor": 2
}
