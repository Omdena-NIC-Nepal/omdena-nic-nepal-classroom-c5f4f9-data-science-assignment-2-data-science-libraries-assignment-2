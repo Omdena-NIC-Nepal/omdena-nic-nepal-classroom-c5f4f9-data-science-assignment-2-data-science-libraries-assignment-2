{
 "cells": [
  {
   "cell_type": "markdown",
   "metadata": {},
   "source": [
    "# Data Science Libraries Assignment 2"
   ]
  },
  {
   "cell_type": "code",
   "execution_count": null,
   "metadata": {},
   "outputs": [],
   "source": [
    "# Installing libraries\n",
    "\n",
    "! pip install pandas\n",
    "! pip install matplotlib\n",
    "! pip install seaborn"
   ]
  },
  {
   "cell_type": "code",
   "execution_count": null,
   "metadata": {},
   "outputs": [],
   "source": [
    "\n",
    "# Importing libraries\n",
    "\n",
    "import pandas as pd\n",
    "import matplotlib.pyplot as plt\n",
    "import seaborn as sns"
   ]
  },
  {
   "cell_type": "markdown",
   "metadata": {},
   "source": [
    "# Section 1"
   ]
  },
  {
   "cell_type": "markdown",
   "metadata": {},
   "source": [
    "# Task 1: Setup and DataFrame Creation"
   ]
  },
  {
   "cell_type": "code",
   "execution_count": null,
   "metadata": {},
   "outputs": [],
   "source": [
    "#Create a dataframe from a dictionary\n",
    "\n",
    "dict = {\n",
    "    'Name' : ['Jordan', 'Cody', 'Anthony', 'David' ],\n",
    "    'Country' : ['England', 'Netherlands', 'France', 'Spain'],\n",
    "    'Age' : [29, 23, 29, 27]\n",
    "}\n",
    "df1 = pd.DataFrame(dict)\n",
    "df1"
   ]
  },
  {
   "cell_type": "code",
   "execution_count": null,
   "metadata": {},
   "outputs": [],
   "source": [
    "#Create a dataframe from a list of dictionaries\n",
    "\n",
    "list = [\n",
    "    {'ID' : 100, 'Department' : 'Sales'},\n",
    "    {'ID' : 200, 'Department' : 'HR'}\n",
    "    ]\n",
    "df2 = pd.DataFrame(list)\n",
    "df2"
   ]
  },
  {
   "cell_type": "code",
   "execution_count": null,
   "metadata": {},
   "outputs": [],
   "source": [
    "#Create a dataframe from a CSV file\n",
    "\n",
    "df = pd.read_csv(r'C:\\Users\\Atankabadi\\Desktop\\AI Capacity Building Assignments\\data-science-assignment-2-manishdahal\\messed_dataset.csv')\n",
    "df"
   ]
  },
  {
   "cell_type": "markdown",
   "metadata": {},
   "source": [
    "# Task 2: Viewing and Inspecting Data"
   ]
  },
  {
   "cell_type": "code",
   "execution_count": null,
   "metadata": {},
   "outputs": [],
   "source": [
    "# Display the first few rows of the DataFrame\n",
    "\n",
    "print('The first 5 rows of the DataFrame :')\n",
    "df.head()\n"
   ]
  },
  {
   "cell_type": "code",
   "execution_count": null,
   "metadata": {},
   "outputs": [],
   "source": [
    "# Display the last few rows of the DataFrame\n",
    "\n",
    "print('The last 5 rows of the DataFrame :')\n",
    "df.tail()"
   ]
  },
  {
   "cell_type": "code",
   "execution_count": null,
   "metadata": {},
   "outputs": [],
   "source": [
    "# Get a summary of the DataFrame, including basic statistics and data types\n",
    "\n",
    "print('Summary of the DataFrame :')\n",
    "df.info()"
   ]
  },
  {
   "cell_type": "code",
   "execution_count": null,
   "metadata": {},
   "outputs": [],
   "source": [
    "# Display the shape of the DataFrame\n",
    "\n",
    "print('Shape of the DataFrame :')\n",
    "df.shape"
   ]
  },
  {
   "cell_type": "code",
   "execution_count": null,
   "metadata": {},
   "outputs": [],
   "source": [
    "# Display the shape of the DataFrame\n",
    "\n",
    "print('Columns of the DataFrame :')\n",
    "df.columns.tolist()"
   ]
  },
  {
   "cell_type": "markdown",
   "metadata": {},
   "source": [
    "# Task 3: Selection and Indexing\n"
   ]
  },
  {
   "cell_type": "code",
   "execution_count": null,
   "metadata": {},
   "outputs": [],
   "source": [
    "# Select a single column\n",
    "print('Selecting the name column only :')\n",
    "df['Name']"
   ]
  },
  {
   "cell_type": "code",
   "execution_count": null,
   "metadata": {},
   "outputs": [],
   "source": [
    "# Select multiple columns\n",
    "print('Selecting the name and age column :')\n",
    "df[['Name', 'Age']]"
   ]
  },
  {
   "cell_type": "code",
   "execution_count": null,
   "metadata": {},
   "outputs": [],
   "source": [
    "# Select a single row by using index\n",
    "\n",
    "print('Selecting first row by index')\n",
    "df.iloc[0]"
   ]
  },
  {
   "cell_type": "code",
   "execution_count": null,
   "metadata": {},
   "outputs": [],
   "source": [
    "# Select multiple rows by using index\n",
    "\n",
    "print('Selecting first three rows by index')\n",
    "df.iloc[0:3]                    #using slicing"
   ]
  },
  {
   "cell_type": "code",
   "execution_count": null,
   "metadata": {},
   "outputs": [],
   "source": [
    "# Select specific rows and columns using loc and iloc\n",
    "\n",
    "print('Selecting first three rows with columns name Country and Salary')\n",
    "df.loc[0:2,['Country', 'Salary']]               #label based indexing"
   ]
  },
  {
   "cell_type": "markdown",
   "metadata": {},
   "source": [
    "## Task 4: Handling Missing Data\n"
   ]
  },
  {
   "cell_type": "code",
   "execution_count": null,
   "metadata": {},
   "outputs": [],
   "source": [
    "# Identify missing values in the DataFrame\n",
    "\n",
    "df.isnull().sum()           #calculate the sum of missing value in each column"
   ]
  },
  {
   "cell_type": "code",
   "execution_count": null,
   "metadata": {},
   "outputs": [],
   "source": [
    "# Drop rows with missing values\n",
    "\n",
    "df_dropped = df.dropna()            #create a new dataframe where all the rows with missing values are dropped\n",
    "df_dropped"
   ]
  },
  {
   "cell_type": "code",
   "execution_count": null,
   "metadata": {},
   "outputs": [],
   "source": [
    "# Fill missing values with a specified value\n",
    "\n",
    "fill_dict = {                           #Create a dictionary consisting of the data to be inserted in missing fields\n",
    "    'Name' : 'John',\n",
    "    'Age' : '50',\n",
    "    'Email' : 'john@missing.com',\n",
    "    'Country' : 'Nepal',\n",
    "    'Salary' : '50000',\n",
    "    'DateOfJoining' : '2024-07-09'\n",
    "}\n",
    "df.fillna(value=fill_dict, inplace= True)       #Fill the missing value in  the data frame(existing dataframe)\n",
    "df"
   ]
  },
  {
   "cell_type": "markdown",
   "metadata": {},
   "source": [
    "## Task 5: Data Operations"
   ]
  },
  {
   "cell_type": "code",
   "execution_count": null,
   "metadata": {},
   "outputs": [],
   "source": [
    "# Add a new column to the DataFrame\n",
    "\n",
    "df['Planet'] = 'Earth'     # Adding a new column called Planet with value Earth for all rows\n",
    "df"
   ]
  },
  {
   "cell_type": "code",
   "execution_count": null,
   "metadata": {},
   "outputs": [],
   "source": [
    "# Delete a column from the DataFrame\n",
    "\n",
    "df.drop(columns= ['Planet'], inplace=True)          #Deleting the column Planet from the DataFrame\n",
    "df"
   ]
  },
  {
   "cell_type": "code",
   "execution_count": null,
   "metadata": {},
   "outputs": [],
   "source": [
    "# Rename columns in the DataFrame\n",
    "\n",
    "df.rename(columns= {'DateOfJoining' : 'Date Of Birth'})     #Rename the column DateOfJoining to Date Of Birth"
   ]
  },
  {
   "cell_type": "code",
   "execution_count": null,
   "metadata": {},
   "outputs": [],
   "source": [
    "# Apply a function to a column\n",
    "\n",
    "df['Name'] = df['Name'].astype(str)             #Converting the Name filed to string explicitly\n",
    "df['Name'] = df['Name'].apply(lambda x : 'Mr. ' + x)        #Adding Mr before all the value under Name column using lambda function\n",
    "df"
   ]
  },
  {
   "cell_type": "markdown",
   "metadata": {},
   "source": [
    "## Task 6: GroupBy Operations\n"
   ]
  },
  {
   "cell_type": "code",
   "execution_count": null,
   "metadata": {},
   "outputs": [],
   "source": [
    "# Group the DataFrame by a column and calculate summary statistics.\n",
    "\n",
    "new_dict = {\n",
    "    'Name': ['John', 'Donny', 'Marcus', 'Bruno', 'John', 'Donny', 'Marcus', 'Bruno'],\n",
    "    'Salary': [40000, 30000, 70000, 20000, 70000, 50000, 10000, 110000]\n",
    "}\n",
    "new_df = pd.DataFrame(new_dict)             #Creating a new DataFrame using a dictionary\n",
    "grouped = new_df.groupby('Name')           # Group by 'Name'"
   ]
  },
  {
   "cell_type": "code",
   "execution_count": null,
   "metadata": {},
   "outputs": [],
   "source": [
    "# Iterate over groups and display the group names and data.\n",
    "\n",
    "mean = grouped['Salary'].mean()         #Calculating the mean salary of each person\n",
    "mean"
   ]
  },
  {
   "cell_type": "markdown",
   "metadata": {},
   "source": [
    "## Task 7: Merging and Joining DataFrames\n"
   ]
  },
  {
   "cell_type": "code",
   "execution_count": null,
   "metadata": {},
   "outputs": [],
   "source": [
    "# Merge two DataFrames on a common column.\n",
    "\n",
    "df1 = pd.DataFrame({\n",
    "    'ID': [1, 2, 3, 4],\n",
    "    'Name': ['A', 'B', 'C', 'D']\n",
    "})\n",
    "\n",
    "df2 = pd.DataFrame({\n",
    "    'ID': [3, 4, 5, 6],\n",
    "    'Age': [22, 33, 44, 55]\n",
    "})\n",
    "\n",
    "merged_df = pd.merge(df1, df2, on='ID')            # Merginf two DataFrames using common column 'ID'\n",
    "merged_df"
   ]
  },
  {
   "cell_type": "code",
   "execution_count": null,
   "metadata": {},
   "outputs": [],
   "source": [
    "# Join two DataFrames using their indices.\n",
    "\n",
    "df1 = pd.DataFrame({\n",
    "    'Name': ['A', 'B', 'C', 'D']\n",
    "}, index=[1, 2, 3, 4])\n",
    "\n",
    "df2 = pd.DataFrame({\n",
    "    'Height': [150, 155, 160, 170]\n",
    "}, index=[3, 4, 5, 6])\n",
    "\n",
    "joined_df = df1.join(df2, how='inner')              # Joining DataFrames using their indices\n",
    "joined_df\n"
   ]
  },
  {
   "cell_type": "markdown",
   "metadata": {},
   "source": [
    "## Task 8: Working with Dates and Times\n"
   ]
  },
  {
   "cell_type": "code",
   "execution_count": null,
   "metadata": {},
   "outputs": [],
   "source": [
    "# Create a datetime index for the DataFrame.\n",
    "\n",
    "df1['Date'] = ['2000-01-02', '2001-03-04', '2003-05-06', '2003-07-08']\n",
    "df1['Date'] = pd.to_datetime(df1['Date'])                   #Converting to date time\n"
   ]
  },
  {
   "cell_type": "code",
   "execution_count": null,
   "metadata": {},
   "outputs": [],
   "source": [
    "# Convert a column to datetime and extract date components.\n",
    "\n",
    "df1['Year'] = df1['Date'].dt.year\n",
    "df1['Month'] = df1['Date'].dt.month\n",
    "df1['Day'] = df1['Date'].dt.day\n",
    "df1"
   ]
  },
  {
   "cell_type": "markdown",
   "metadata": {},
   "source": [
    "## Task 9: Input and Output\n"
   ]
  },
  {
   "cell_type": "code",
   "execution_count": null,
   "metadata": {},
   "outputs": [],
   "source": [
    "# Read data from a CSV file into a DataFrame.\n",
    "df = pd.read_csv(r'C:\\Users\\Atankabadi\\Desktop\\AI Capacity Building Assignments\\data-science-assignment-2-manishdahal\\messed_dataset.csv')\n",
    "\n",
    "print(\"DataFrame read from CSV:\")\n",
    "df\n"
   ]
  },
  {
   "cell_type": "code",
   "execution_count": null,
   "metadata": {},
   "outputs": [],
   "source": [
    "# Write the DataFrame to a CSV file.\n",
    "\n",
    "df1.to_csv('DataFrameToCSV.csv', index=False)"
   ]
  },
  {
   "cell_type": "code",
   "execution_count": null,
   "metadata": {},
   "outputs": [],
   "source": [
    "#Installing openpyxl library for reading and writing Excel(.xlsx) files\n",
    "\n",
    "!pip install openpyxl"
   ]
  },
  {
   "cell_type": "code",
   "execution_count": null,
   "metadata": {},
   "outputs": [],
   "source": [
    "# Read data from an Excel file into a DataFrame. The data given is `SaleData.xlsl`.\n",
    "\n",
    "df_excel = pd.read_excel('SaleData.xlsx')\n",
    "\n",
    "df_excel"
   ]
  },
  {
   "cell_type": "code",
   "execution_count": null,
   "metadata": {},
   "outputs": [],
   "source": [
    "# Write the DataFrame to an Excel file.\n",
    "\n",
    "\n",
    "df1.to_excel('DataFrameToExcel.xlsx', index=False)"
   ]
  },
  {
   "cell_type": "markdown",
   "metadata": {},
   "source": [
    "# Section 2: Reference to Friday Class on EDA\n"
   ]
  },
  {
   "cell_type": "markdown",
   "metadata": {},
   "source": [
    "## Task 10: Visualization\n"
   ]
  },
  {
   "cell_type": "code",
   "execution_count": null,
   "metadata": {},
   "outputs": [],
   "source": [
    "# Create a simple plot using Matplotlib.\n",
    "\n",
    "# Sample data\n",
    "x = [1, 2, 3, 4, 5]\n",
    "y = [2, 3, 5, 7, 11]\n",
    "\n",
    "plt.plot(x,y)\n",
    "plt.xlabel('X-axis')\n",
    "plt.ylabel('Y-axis')\n",
    "plt.title('Simple Plot using Matplotlib')\n",
    "plt.show()"
   ]
  },
  {
   "cell_type": "code",
   "execution_count": null,
   "metadata": {},
   "outputs": [],
   "source": [
    "# Create a bar plot using Seaborn.\n",
    "\n",
    "# Sample Data\n",
    "categories = ['A', 'B', 'C']\n",
    "values = [10, 20, 15]\n",
    "\n",
    "sns.barplot(x=categories, y=values)     # Create a bar plot using Seaborn\n",
    "\n",
    "plt.show()\n"
   ]
  }
 ],
 "metadata": {
  "kernelspec": {
   "display_name": "base",
   "language": "python",
   "name": "python3"
  },
  "language_info": {
   "codemirror_mode": {
    "name": "ipython",
    "version": 3
   },
   "file_extension": ".py",
   "mimetype": "text/x-python",
   "name": "python",
   "nbconvert_exporter": "python",
   "pygments_lexer": "ipython3",
   "version": "3.12.4"
  }
 },
 "nbformat": 4,
 "nbformat_minor": 2
}
