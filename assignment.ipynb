{
 "cells": [
  {
   "cell_type": "markdown",
   "metadata": {},
   "source": [
    "# Section1"
   ]
  },
  {
   "cell_type": "markdown",
   "metadata": {},
   "source": [
    "# Task 1: SetUp And Dataframe Creation"
   ]
  },
  {
   "cell_type": "code",
   "execution_count": 1,
   "metadata": {},
   "outputs": [
    {
     "name": "stdout",
     "output_type": "stream",
     "text": [
      "Requirement already satisfied: pandas in /home/veer/anaconda3/lib/python3.11/site-packages (2.1.4)\n",
      "Requirement already satisfied: numpy<2,>=1.23.2 in /home/veer/anaconda3/lib/python3.11/site-packages (from pandas) (1.26.4)\n",
      "Requirement already satisfied: python-dateutil>=2.8.2 in /home/veer/anaconda3/lib/python3.11/site-packages (from pandas) (2.8.2)\n",
      "Requirement already satisfied: pytz>=2020.1 in /home/veer/anaconda3/lib/python3.11/site-packages (from pandas) (2023.3.post1)\n",
      "Requirement already satisfied: tzdata>=2022.1 in /home/veer/anaconda3/lib/python3.11/site-packages (from pandas) (2023.3)\n",
      "Requirement already satisfied: six>=1.5 in /home/veer/anaconda3/lib/python3.11/site-packages (from python-dateutil>=2.8.2->pandas) (1.16.0)\n"
     ]
    }
   ],
   "source": [
    "! pip install pandas"
   ]
  },
  {
   "cell_type": "code",
   "execution_count": 3,
   "metadata": {},
   "outputs": [],
   "source": [
    "import pandas as pd"
   ]
  },
  {
   "cell_type": "markdown",
   "metadata": {},
   "source": [
    "Create DataFrame from a dictionary"
   ]
  },
  {
   "cell_type": "code",
   "execution_count": 5,
   "metadata": {},
   "outputs": [],
   "source": [
    "data_dict = {\n",
    "    'Name': ['Alice', 'Bob', 'Charlie'],\n",
    "    'Age': [25, 30, 35],\n",
    "    'City': ['New York', 'Los Angeles', 'Chicago']\n",
    "}\n",
    "df_from_dict = pd.DataFrame(data_dict)\n"
   ]
  },
  {
   "cell_type": "markdown",
   "metadata": {},
   "source": [
    "Create DataFrame from a list of dictionaries"
   ]
  },
  {
   "cell_type": "code",
   "execution_count": 7,
   "metadata": {},
   "outputs": [],
   "source": [
    "data_list = [\n",
    "    {'Name': 'David', 'Age': 40, 'City': 'San Francisco'},\n",
    "    {'Name': 'Eva', 'Age': 28, 'City': 'Boston'}\n",
    "]\n",
    "df_from_list = pd.DataFrame(data_list)\n"
   ]
  },
  {
   "cell_type": "markdown",
   "metadata": {},
   "source": [
    "Load dataset from CSV file"
   ]
  },
  {
   "cell_type": "code",
   "execution_count": 9,
   "metadata": {},
   "outputs": [],
   "source": [
    "df = pd.read_csv('messed_dataset.csv')\n"
   ]
  },
  {
   "cell_type": "markdown",
   "metadata": {},
   "source": [
    "# Task 2: Viewing Data"
   ]
  },
  {
   "cell_type": "markdown",
   "metadata": {},
   "source": [
    "Display the first and last rows"
   ]
  },
  {
   "cell_type": "code",
   "execution_count": 13,
   "metadata": {},
   "outputs": [
    {
     "name": "stdout",
     "output_type": "stream",
     "text": [
      "                Name   Age                Email      Country    Salary  \\\n",
      "0            invalid  59.0  ycastro@example.org  Switzerland  44694.24   \n",
      "1    David Jefferson  21.0                  NaN        China       NaN   \n",
      "2      Jessica Reyes  34.0                  NaN          NaN  60511.62   \n",
      "3  Kenneth Macdonald  68.0    ewolf@example.com        Italy  84223.29   \n",
      "4        Julie Horne  78.0                  NaN      Ecuador  24665.13   \n",
      "\n",
      "  DateOfJoining  \n",
      "0    2022-09-29  \n",
      "1    2021-10-04  \n",
      "2    2022-05-24  \n",
      "3    2022-04-07  \n",
      "4    2020-06-19  \n",
      "                  Name   Age                     Email            Country  \\\n",
      "95    Garrett Davidson  56.0        gjames@example.com    Solomon Islands   \n",
      "96      Elizabeth Ross  52.0  richardlewis@example.net  Equatorial Guinea   \n",
      "97                 NaN  72.0       brian50@example.com            Somalia   \n",
      "98      Patricia Singh  65.0      lramirez@example.org             Greece   \n",
      "99  Christopher Stokes  42.0                       NaN       South Africa   \n",
      "\n",
      "      Salary DateOfJoining  \n",
      "95  86227.88           NaN  \n",
      "96  29992.69    2020-04-08  \n",
      "97  90628.22    2020-04-11  \n",
      "98  85290.44    2020-03-18  \n",
      "99  20289.17    2021-09-23  \n"
     ]
    }
   ],
   "source": [
    "print(df.head())\n",
    "print(df.tail())"
   ]
  },
  {
   "cell_type": "markdown",
   "metadata": {},
   "source": [
    "Summary of the DataFrame"
   ]
  },
  {
   "cell_type": "code",
   "execution_count": 18,
   "metadata": {},
   "outputs": [
    {
     "name": "stdout",
     "output_type": "stream",
     "text": [
      "<class 'pandas.core.frame.DataFrame'>\n",
      "RangeIndex: 100 entries, 0 to 99\n",
      "Data columns (total 6 columns):\n",
      " #   Column         Non-Null Count  Dtype \n",
      "---  ------         --------------  ----- \n",
      " 0   Name           89 non-null     object\n",
      " 1   Age            97 non-null     object\n",
      " 2   Email          80 non-null     object\n",
      " 3   Country        86 non-null     object\n",
      " 4   Salary         94 non-null     object\n",
      " 5   DateOfJoining  79 non-null     object\n",
      "dtypes: object(6)\n",
      "memory usage: 4.8+ KB\n",
      "None\n",
      "           Name   Age                Email Country   Salary DateOfJoining\n",
      "count        89    97                   80      86       94            79\n",
      "unique       85    53                   80      76       93            79\n",
      "top     invalid  76.0  ycastro@example.org  Greece  invalid    2022-09-29\n",
      "freq          5     6                    1       2        2             1\n"
     ]
    }
   ],
   "source": [
    "print(df.info())\n",
    "print(df.describe())\n"
   ]
  },
  {
   "cell_type": "markdown",
   "metadata": {},
   "source": [
    "shape and column names"
   ]
  },
  {
   "cell_type": "code",
   "execution_count": 21,
   "metadata": {},
   "outputs": [
    {
     "name": "stdout",
     "output_type": "stream",
     "text": [
      "(100, 6)\n",
      "Index(['Name', 'Age', 'Email', 'Country', 'Salary', 'DateOfJoining'], dtype='object')\n"
     ]
    }
   ],
   "source": [
    "print(df.shape)\n",
    "print(df.columns)\n"
   ]
  },
  {
   "cell_type": "markdown",
   "metadata": {},
   "source": [
    "# Task 3: Selection and Indexing"
   ]
  },
  {
   "cell_type": "markdown",
   "metadata": {},
   "source": [
    "Select a single column and multiple columns"
   ]
  },
  {
   "cell_type": "code",
   "execution_count": 25,
   "metadata": {},
   "outputs": [],
   "source": [
    "single_column = df['Name']\n",
    "multiple_columns = df[['Email', 'Country']]\n"
   ]
  },
  {
   "cell_type": "markdown",
   "metadata": {},
   "source": [
    "Select rows by index and by label"
   ]
  },
  {
   "cell_type": "code",
   "execution_count": 28,
   "metadata": {},
   "outputs": [],
   "source": [
    "row_by_index = df.iloc[0]  # First row\n",
    "row_by_label = df.loc[0]   # Assuming 0 is a label in index\n"
   ]
  },
  {
   "cell_type": "markdown",
   "metadata": {},
   "source": [
    "Select specific rows and columns using loc and iloc"
   ]
  },
  {
   "cell_type": "code",
   "execution_count": 31,
   "metadata": {},
   "outputs": [],
   "source": [
    "specific_rows_cols_loc = df.loc[0:2, ['Name', 'Country']]  # Rows 0 to 2 and specific columns\n",
    "specific_rows_cols_iloc = df.iloc[0:2, 0:2]  # Rows 0 to 2 and first two columns\n"
   ]
  },
  {
   "cell_type": "markdown",
   "metadata": {},
   "source": [
    "# Task 4: Handling Missing Data"
   ]
  },
  {
   "cell_type": "markdown",
   "metadata": {},
   "source": [
    "Identify missing values"
   ]
  },
  {
   "cell_type": "code",
   "execution_count": 35,
   "metadata": {},
   "outputs": [],
   "source": [
    "missing_values = df.isnull().sum()"
   ]
  },
  {
   "cell_type": "markdown",
   "metadata": {},
   "source": [
    "Drop rows with missing values"
   ]
  },
  {
   "cell_type": "code",
   "execution_count": 38,
   "metadata": {},
   "outputs": [],
   "source": [
    "df_dropped = df.dropna()"
   ]
  },
  {
   "cell_type": "markdown",
   "metadata": {},
   "source": [
    "Fill missing values with a specified value"
   ]
  },
  {
   "cell_type": "code",
   "execution_count": 43,
   "metadata": {},
   "outputs": [],
   "source": [
    "df_filled = df.fillna(value={'Name': 'Asmit'})\n"
   ]
  },
  {
   "cell_type": "markdown",
   "metadata": {},
   "source": [
    "# Task 5: Data Operations\n"
   ]
  },
  {
   "cell_type": "markdown",
   "metadata": {},
   "source": [
    "Add a new column"
   ]
  },
  {
   "cell_type": "code",
   "execution_count": 47,
   "metadata": {},
   "outputs": [],
   "source": [
    "df['Marital Status'] = 'UnMarried'\n"
   ]
  },
  {
   "cell_type": "markdown",
   "metadata": {},
   "source": [
    "Rename columns"
   ]
  },
  {
   "cell_type": "code",
   "execution_count": 50,
   "metadata": {},
   "outputs": [],
   "source": [
    "df = df.rename(columns={'Name': 'NewName'})\n"
   ]
  },
  {
   "cell_type": "markdown",
   "metadata": {},
   "source": [
    "Apply a function to a column"
   ]
  },
  {
   "cell_type": "code",
   "execution_count": 53,
   "metadata": {},
   "outputs": [],
   "source": [
    "df['NewAge'] = df['Age'].apply(lambda x: x * 2)\n"
   ]
  },
  {
   "cell_type": "code",
   "execution_count": 55,
   "metadata": {},
   "outputs": [
    {
     "data": {
      "text/html": [
       "<div>\n",
       "<style scoped>\n",
       "    .dataframe tbody tr th:only-of-type {\n",
       "        vertical-align: middle;\n",
       "    }\n",
       "\n",
       "    .dataframe tbody tr th {\n",
       "        vertical-align: top;\n",
       "    }\n",
       "\n",
       "    .dataframe thead th {\n",
       "        text-align: right;\n",
       "    }\n",
       "</style>\n",
       "<table border=\"1\" class=\"dataframe\">\n",
       "  <thead>\n",
       "    <tr style=\"text-align: right;\">\n",
       "      <th></th>\n",
       "      <th>NewName</th>\n",
       "      <th>Age</th>\n",
       "      <th>Email</th>\n",
       "      <th>Country</th>\n",
       "      <th>Salary</th>\n",
       "      <th>DateOfJoining</th>\n",
       "      <th>Marital Status</th>\n",
       "      <th>NewAge</th>\n",
       "    </tr>\n",
       "  </thead>\n",
       "  <tbody>\n",
       "    <tr>\n",
       "      <th>0</th>\n",
       "      <td>invalid</td>\n",
       "      <td>59.0</td>\n",
       "      <td>ycastro@example.org</td>\n",
       "      <td>Switzerland</td>\n",
       "      <td>44694.24</td>\n",
       "      <td>2022-09-29</td>\n",
       "      <td>UnMarried</td>\n",
       "      <td>59.059.0</td>\n",
       "    </tr>\n",
       "    <tr>\n",
       "      <th>1</th>\n",
       "      <td>David Jefferson</td>\n",
       "      <td>21.0</td>\n",
       "      <td>NaN</td>\n",
       "      <td>China</td>\n",
       "      <td>NaN</td>\n",
       "      <td>2021-10-04</td>\n",
       "      <td>UnMarried</td>\n",
       "      <td>21.021.0</td>\n",
       "    </tr>\n",
       "    <tr>\n",
       "      <th>2</th>\n",
       "      <td>Jessica Reyes</td>\n",
       "      <td>34.0</td>\n",
       "      <td>NaN</td>\n",
       "      <td>NaN</td>\n",
       "      <td>60511.62</td>\n",
       "      <td>2022-05-24</td>\n",
       "      <td>UnMarried</td>\n",
       "      <td>34.034.0</td>\n",
       "    </tr>\n",
       "    <tr>\n",
       "      <th>3</th>\n",
       "      <td>Kenneth Macdonald</td>\n",
       "      <td>68.0</td>\n",
       "      <td>ewolf@example.com</td>\n",
       "      <td>Italy</td>\n",
       "      <td>84223.29</td>\n",
       "      <td>2022-04-07</td>\n",
       "      <td>UnMarried</td>\n",
       "      <td>68.068.0</td>\n",
       "    </tr>\n",
       "    <tr>\n",
       "      <th>4</th>\n",
       "      <td>Julie Horne</td>\n",
       "      <td>78.0</td>\n",
       "      <td>NaN</td>\n",
       "      <td>Ecuador</td>\n",
       "      <td>24665.13</td>\n",
       "      <td>2020-06-19</td>\n",
       "      <td>UnMarried</td>\n",
       "      <td>78.078.0</td>\n",
       "    </tr>\n",
       "  </tbody>\n",
       "</table>\n",
       "</div>"
      ],
      "text/plain": [
       "             NewName   Age                Email      Country    Salary  \\\n",
       "0            invalid  59.0  ycastro@example.org  Switzerland  44694.24   \n",
       "1    David Jefferson  21.0                  NaN        China       NaN   \n",
       "2      Jessica Reyes  34.0                  NaN          NaN  60511.62   \n",
       "3  Kenneth Macdonald  68.0    ewolf@example.com        Italy  84223.29   \n",
       "4        Julie Horne  78.0                  NaN      Ecuador  24665.13   \n",
       "\n",
       "  DateOfJoining Marital Status    NewAge  \n",
       "0    2022-09-29      UnMarried  59.059.0  \n",
       "1    2021-10-04      UnMarried  21.021.0  \n",
       "2    2022-05-24      UnMarried  34.034.0  \n",
       "3    2022-04-07      UnMarried  68.068.0  \n",
       "4    2020-06-19      UnMarried  78.078.0  "
      ]
     },
     "execution_count": 55,
     "metadata": {},
     "output_type": "execute_result"
    }
   ],
   "source": [
    "df.head()"
   ]
  },
  {
   "cell_type": "markdown",
   "metadata": {},
   "source": [
    "# Task 6: GroupBy Operations"
   ]
  },
  {
   "cell_type": "markdown",
   "metadata": {},
   "source": [
    "Group the DataFrame by a column and calculate summary statistics"
   ]
  },
  {
   "cell_type": "code",
   "execution_count": 59,
   "metadata": {},
   "outputs": [
    {
     "name": "stdout",
     "output_type": "stream",
     "text": [
      "Non-numeric ages:\n",
      "               NewName   Age                     Email            Country  \\\n",
      "0              invalid  59.0       ycastro@example.org        Switzerland   \n",
      "1      David Jefferson  21.0                       NaN              China   \n",
      "2        Jessica Reyes  34.0                       NaN                NaN   \n",
      "3    Kenneth Macdonald  68.0         ewolf@example.com              Italy   \n",
      "4          Julie Horne  78.0                       NaN            Ecuador   \n",
      "..                 ...   ...                       ...                ...   \n",
      "95    Garrett Davidson  56.0        gjames@example.com    Solomon Islands   \n",
      "96      Elizabeth Ross  52.0  richardlewis@example.net  Equatorial Guinea   \n",
      "97                 NaN  72.0       brian50@example.com            Somalia   \n",
      "98      Patricia Singh  65.0      lramirez@example.org             Greece   \n",
      "99  Christopher Stokes  42.0                       NaN       South Africa   \n",
      "\n",
      "      Salary DateOfJoining Marital Status    NewAge  \n",
      "0   44694.24    2022-09-29      UnMarried  59.059.0  \n",
      "1        NaN    2021-10-04      UnMarried  21.021.0  \n",
      "2   60511.62    2022-05-24      UnMarried  34.034.0  \n",
      "3   84223.29    2022-04-07      UnMarried  68.068.0  \n",
      "4   24665.13    2020-06-19      UnMarried  78.078.0  \n",
      "..       ...           ...            ...       ...  \n",
      "95  86227.88           NaN      UnMarried  56.056.0  \n",
      "96  29992.69    2020-04-08      UnMarried  52.052.0  \n",
      "97  90628.22    2020-04-11      UnMarried  72.072.0  \n",
      "98  85290.44    2020-03-18      UnMarried  65.065.0  \n",
      "99  20289.17    2021-09-23      UnMarried  42.042.0  \n",
      "\n",
      "[100 rows x 8 columns]\n",
      "Non-numeric columns:\n",
      "Index(['NewName', 'Email', 'Country', 'Salary', 'DateOfJoining',\n",
      "       'Marital Status', 'NewAge'],\n",
      "      dtype='object')\n",
      "Grouped data:\n",
      "Empty DataFrame\n",
      "Columns: []\n",
      "Index: [18, 19, 20, 21, 22, 24, 26, 27, 28, 29, 30, 31, 32, 33, 34, 35, 38, 40, 42, 43, 44, 45, 46, 47, 48, 49, 50, 51, 52, 53, 55, 56, 57, 58, 59, 60, 61, 64, 65, 66, 68, 69, 70, 71, 72, 73, 74, 76, 77, 78, 79, 80]\n"
     ]
    }
   ],
   "source": [
    "\n",
    "non_numeric_ages = df['Age'].apply(lambda x: not str(x).isdigit())\n",
    "print(\"Non-numeric ages:\")\n",
    "print(df[non_numeric_ages])\n",
    "\n",
    "df['Age'] = pd.to_numeric(df['Age'], errors='coerce')\n",
    "\n",
    "df = df.dropna(subset=['Age'])\n",
    "\n",
    "df['Age'] = df['Age'].astype(int)\n",
    "\n",
    "non_numeric_columns = df.select_dtypes(include=['object']).columns\n",
    "print(\"Non-numeric columns:\")\n",
    "print(non_numeric_columns)\n",
    "\n",
    "df_numeric = df.drop(columns=non_numeric_columns)\n",
    "\n",
    "grouped = df_numeric.groupby('Age').mean()\n",
    "print(\"Grouped data:\")\n",
    "print(grouped)"
   ]
  },
  {
   "cell_type": "code",
   "execution_count": 61,
   "metadata": {},
   "outputs": [
    {
     "name": "stdout",
     "output_type": "stream",
     "text": [
      "18\n",
      "             NewName  Age Email Country    Salary DateOfJoining  \\\n",
      "46  Marissa Williams   18   NaN     NaN  46658.98    2020-07-14   \n",
      "\n",
      "   Marital Status    NewAge  \n",
      "46      UnMarried  18.018.0  \n",
      "19\n",
      "             NewName  Age                  Email  Country    Salary  \\\n",
      "57           invalid   19                    NaN      NaN  36728.76   \n",
      "69  Michael Oconnell   19  fdelacruz@example.org  Grenada  62929.05   \n",
      "\n",
      "   DateOfJoining Marital Status    NewAge  \n",
      "57    2021-04-22      UnMarried  19.019.0  \n",
      "69    2022-01-21      UnMarried  19.019.0  \n",
      "20\n",
      "   NewName  Age Email                    Country    Salary DateOfJoining  \\\n",
      "25     NaN   20   NaN  Bouvet Island (Bouvetoya)  73892.64    2023-08-26   \n",
      "\n",
      "   Marital Status    NewAge  \n",
      "25      UnMarried  20.020.0  \n",
      "21\n",
      "            NewName  Age Email   Country    Salary DateOfJoining  \\\n",
      "1   David Jefferson   21   NaN     China       NaN    2021-10-04   \n",
      "12    Kelly Schultz   21   NaN  Kiribati  93448.73    2023-07-24   \n",
      "42   Calvin Herrera   21   NaN     China  50975.46           NaN   \n",
      "\n",
      "   Marital Status    NewAge  \n",
      "1       UnMarried  21.021.0  \n",
      "12      UnMarried  21.021.0  \n",
      "42      UnMarried  21.021.0  \n",
      "22\n",
      "              NewName  Age                  Email       Country    Salary  \\\n",
      "8   Barbara Armstrong   22  fmitchell@example.com           NaN       NaN   \n",
      "36    Keith Velazquez   22  charles82@example.net  Burkina Faso  81661.97   \n",
      "79   Shannon Gonzalez   22     jean37@example.net           NaN  64831.97   \n",
      "\n",
      "   DateOfJoining Marital Status    NewAge  \n",
      "8            NaN      UnMarried  22.022.0  \n",
      "36    2024-03-27      UnMarried  22.022.0  \n",
      "79           NaN      UnMarried  22.022.0  \n",
      "24\n",
      "   NewName  Age                  Email Country    Salary DateOfJoining  \\\n",
      "62     NaN   24  katelyn76@example.net   Yemen  61256.89    2020-01-06   \n",
      "\n",
      "   Marital Status    NewAge  \n",
      "62      UnMarried  24.024.0  \n",
      "26\n",
      "             NewName  Age                      Email   Country    Salary  \\\n",
      "5   Jonathan Holland   26   mayercaitlin@example.org  Cameroon  25660.99   \n",
      "31      William Peck   26  christopher37@example.org       NaN  42155.66   \n",
      "\n",
      "   DateOfJoining Marital Status    NewAge  \n",
      "5     2023-05-01      UnMarried  26.026.0  \n",
      "31           NaN      UnMarried  26.026.0  \n",
      "27\n",
      "           NewName  Age                     Email   Country    Salary  \\\n",
      "61  Terri Phillips   27  garyanderson@example.net  Cambodia  47755.97   \n",
      "71    Chase Parker   27                       NaN   Belgium   28097.5   \n",
      "\n",
      "   DateOfJoining Marital Status    NewAge  \n",
      "61       invalid      UnMarried  27.027.0  \n",
      "71           NaN      UnMarried  27.027.0  \n",
      "28\n",
      "            NewName  Age                     Email Country Salary  \\\n",
      "48  Charles Sanchez   28  jenkinsmaria@example.net   Chile    NaN   \n",
      "\n",
      "   DateOfJoining Marital Status    NewAge  \n",
      "48           NaN      UnMarried  28.028.0  \n",
      "29\n",
      "          NewName  Age                      Email      Country    Salary  \\\n",
      "68  Justin Wright   29  elizabethreid@example.org  Timor-Leste  28951.24   \n",
      "\n",
      "   DateOfJoining Marital Status    NewAge  \n",
      "68    2020-02-21      UnMarried  29.029.0  \n",
      "30\n",
      "          NewName  Age                      Email Country    Salary  \\\n",
      "15  Lauren Becker   30  watsonjeffrey@example.net   Malta   invalid   \n",
      "22     John Hicks   30        catkins@example.org  Mexico  80906.51   \n",
      "\n",
      "   DateOfJoining Marital Status    NewAge  \n",
      "15    2020-01-13      UnMarried  30.030.0  \n",
      "22           NaN      UnMarried  30.030.0  \n",
      "31\n",
      "     NewName  Age Email  Country    Salary DateOfJoining Marital Status  \\\n",
      "19  Amy Sims   31   NaN  Bolivia  51559.83    2023-08-22      UnMarried   \n",
      "\n",
      "      NewAge  \n",
      "19  31.031.0  \n",
      "32\n",
      "           NewName  Age                Email  Country    Salary DateOfJoining  \\\n",
      "73  Mitchell Smith   32  spierce@example.com  Armenia  57795.75    2021-04-19   \n",
      "\n",
      "   Marital Status    NewAge  \n",
      "73      UnMarried  32.032.0  \n",
      "33\n",
      "   NewName  Age                    Email  Country    Salary DateOfJoining  \\\n",
      "50     NaN   33  robertsmith@example.net  Nigeria  99405.51           NaN   \n",
      "\n",
      "   Marital Status    NewAge  \n",
      "50      UnMarried  33.033.0  \n",
      "34\n",
      "         NewName  Age Email Country    Salary DateOfJoining Marital Status  \\\n",
      "2  Jessica Reyes   34   NaN     NaN  60511.62    2022-05-24      UnMarried   \n",
      "\n",
      "     NewAge  \n",
      "2  34.034.0  \n",
      "35\n",
      "            NewName  Age                        Email    Country    Salary  \\\n",
      "35    Rebecca Davis   35  wallacejennifer@example.net  Sri Lanka  66871.64   \n",
      "44     Brandi White   35            mhall@example.net   Tanzania  21408.87   \n",
      "45  Melanie Buckley   35                          NaN       Mali  78258.04   \n",
      "\n",
      "   DateOfJoining Marital Status    NewAge  \n",
      "35    2022-08-06      UnMarried  35.035.0  \n",
      "44    2020-11-26      UnMarried  35.035.0  \n",
      "45           NaN      UnMarried  35.035.0  \n",
      "38\n",
      "         NewName  Age Email Country    Salary DateOfJoining Marital Status  \\\n",
      "38  Lindsey York   38   NaN  Mexico  97896.77    2022-03-05      UnMarried   \n",
      "\n",
      "      NewAge  \n",
      "38  38.038.0  \n",
      "40\n",
      "               NewName  Age                   Email               Country  \\\n",
      "37  Christopher Martin   40      tina11@example.com  Netherlands Antilles   \n",
      "51      Whitney Graham   40  zrodriguez@example.org            Mozambique   \n",
      "70    Christina Garcia   40   kathryn18@example.org               invalid   \n",
      "\n",
      "      Salary DateOfJoining Marital Status    NewAge  \n",
      "37  81367.57    2020-07-30      UnMarried  40.040.0  \n",
      "51  98826.59    2023-05-08      UnMarried  40.040.0  \n",
      "70  73916.51    2023-11-13      UnMarried  40.040.0  \n",
      "42\n",
      "               NewName  Age                        Email         Country  \\\n",
      "87         Nancy Irwin   42      juliaweaver@example.net  Czech Republic   \n",
      "91      Ryan Middleton   42  mcconnellashley@example.net         Bahamas   \n",
      "99  Christopher Stokes   42                          NaN    South Africa   \n",
      "\n",
      "      Salary DateOfJoining Marital Status    NewAge  \n",
      "87   29455.0    2020-07-21      UnMarried  42.042.0  \n",
      "91  78048.75    2021-04-05      UnMarried  42.042.0  \n",
      "99  20289.17    2021-09-23      UnMarried  42.042.0  \n",
      "43\n",
      "          NewName  Age                    Email        Country    Salary  \\\n",
      "64  Andrew Bryant   43  jacobtorres@example.com       Colombia  32205.53   \n",
      "80   David Walker   43      linda84@example.net  Guinea-Bissau  89683.17   \n",
      "90        invalid   43                      NaN      Indonesia   41928.2   \n",
      "\n",
      "   DateOfJoining Marital Status    NewAge  \n",
      "64    2020-10-26      UnMarried  43.043.0  \n",
      "80    2021-06-20      UnMarried  43.043.0  \n",
      "90    2020-05-08      UnMarried  43.043.0  \n",
      "44\n",
      "              NewName  Age                Email Country   Salary  \\\n",
      "52  Patrick Brown PhD   44  james16@example.net  Greece  83842.6   \n",
      "\n",
      "   DateOfJoining Marital Status    NewAge  \n",
      "52    2020-07-12      UnMarried  44.044.0  \n",
      "45\n",
      "        NewName  Age              Email  Country    Salary DateOfJoining  \\\n",
      "81  Brandi Long   45  vford@example.com  Ecuador  30773.53    2020-06-29   \n",
      "\n",
      "   Marital Status    NewAge  \n",
      "81      UnMarried  45.045.0  \n",
      "46\n",
      "          NewName  Age                  Email Country   Salary DateOfJoining  \\\n",
      "20  Dylan Simpson   46  jessica74@example.net  Serbia  59670.5    2021-10-31   \n",
      "\n",
      "   Marital Status    NewAge  \n",
      "20      UnMarried  46.046.0  \n",
      "47\n",
      "            NewName  Age                    Email  \\\n",
      "63  Wesley Whitaker   47                      NaN   \n",
      "67              NaN   47  stephanie20@example.net   \n",
      "83     Kendra Mason   47  megancarter@example.com   \n",
      "\n",
      "                                              Country    Salary DateOfJoining  \\\n",
      "63  British Indian Ocean Territory (Chagos Archipe...  97832.79    2020-12-20   \n",
      "67                                              Macao  36365.55           NaN   \n",
      "83                                            Moldova  34369.87    2023-07-09   \n",
      "\n",
      "   Marital Status    NewAge  \n",
      "63      UnMarried  47.047.0  \n",
      "67      UnMarried  47.047.0  \n",
      "83      UnMarried  47.047.0  \n",
      "48\n",
      "         NewName  Age                   Email     Country    Salary  \\\n",
      "94  Cody Jackson   48  jamieayers@example.net  Luxembourg  55583.62   \n",
      "\n",
      "   DateOfJoining Marital Status    NewAge  \n",
      "94    2021-05-23      UnMarried  48.048.0  \n",
      "49\n",
      "          NewName  Age                     Email  Country    Salary  \\\n",
      "77  Phillip Garza   49  brandimclean@example.org  Georgia  34326.41   \n",
      "\n",
      "   DateOfJoining Marital Status    NewAge  \n",
      "77           NaN      UnMarried  49.049.0  \n",
      "50\n",
      "           NewName  Age                Email                   Country  \\\n",
      "60  Thomas Navarro   50  psnyder@example.org  Turks and Caicos Islands   \n",
      "\n",
      "      Salary DateOfJoining Marital Status    NewAge  \n",
      "60  86286.69    2020-11-03      UnMarried  50.050.0  \n",
      "51\n",
      "         NewName  Age                       Email Country    Salary  \\\n",
      "56  Melissa Cook   51  thompsonhunter@example.org     NaN  52040.14   \n",
      "\n",
      "   DateOfJoining Marital Status    NewAge  \n",
      "56    2022-04-04      UnMarried  51.051.0  \n",
      "52\n",
      "           NewName  Age                     Email            Country  \\\n",
      "41    Nichole Mora   52   turnersarah@example.net             Angola   \n",
      "96  Elizabeth Ross   52  richardlewis@example.net  Equatorial Guinea   \n",
      "\n",
      "      Salary DateOfJoining Marital Status    NewAge  \n",
      "41  64674.33           NaN      UnMarried  52.052.0  \n",
      "96  29992.69    2020-04-08      UnMarried  52.052.0  \n",
      "53\n",
      "        NewName  Age Email Country Salary DateOfJoining Marital Status  \\\n",
      "14  James Lloyd   53   NaN     NaN    NaN           NaN      UnMarried   \n",
      "\n",
      "      NewAge  \n",
      "14  53.053.0  \n",
      "55\n",
      "          NewName  Age               Email  Country Salary DateOfJoining  \\\n",
      "34  David Shields   55  brad93@example.net  Burundi    NaN    2023-11-27   \n",
      "\n",
      "   Marital Status    NewAge  \n",
      "34      UnMarried  55.055.0  \n",
      "56\n",
      "             NewName  Age                   Email                  Country  \\\n",
      "11      Keith Deleon   56  josephwall@example.com  Cocos (Keeling) Islands   \n",
      "23        Karen Ward   56    daniel47@example.com                    Congo   \n",
      "95  Garrett Davidson   56      gjames@example.com          Solomon Islands   \n",
      "\n",
      "      Salary DateOfJoining Marital Status    NewAge  \n",
      "11  23361.13           NaN      UnMarried  56.056.0  \n",
      "23   83580.8    2022-04-09      UnMarried  56.056.0  \n",
      "95  86227.88           NaN      UnMarried  56.056.0  \n",
      "57\n",
      "        NewName  Age                      Email           Country    Salary  \\\n",
      "32          NaN   57  danielperkins@example.org          Barbados  78620.54   \n",
      "59  Diane Smith   57        david44@example.net  Saint Barthelemy  86579.95   \n",
      "\n",
      "   DateOfJoining Marital Status    NewAge  \n",
      "32    2024-05-17      UnMarried  57.057.0  \n",
      "59    2020-07-27      UnMarried  57.057.0  \n",
      "58\n",
      "          NewName  Age                    Email  Country    Salary  \\\n",
      "66   Karen Peters   58     ricelisa@example.net    Yemen  36736.59   \n",
      "84  Debbie Romero   58  nathaniel61@example.net  Reunion  39875.14   \n",
      "\n",
      "   DateOfJoining Marital Status    NewAge  \n",
      "66           NaN      UnMarried  58.058.0  \n",
      "84    2023-02-11      UnMarried  58.058.0  \n",
      "59\n",
      "          NewName  Age                      Email      Country    Salary  \\\n",
      "0         invalid   59        ycastro@example.org  Switzerland  44694.24   \n",
      "9     Jason Perez   59  collinsedward@example.com      Myanmar  20175.11   \n",
      "26            NaN   59          amy02@example.net     Anguilla  56583.58   \n",
      "93  Alicia Miller   59       thomas45@example.net   Mauritania  52834.29   \n",
      "\n",
      "   DateOfJoining Marital Status    NewAge  \n",
      "0     2022-09-29      UnMarried  59.059.0  \n",
      "9     2024-04-11      UnMarried  59.059.0  \n",
      "26           NaN      UnMarried  59.059.0  \n",
      "93    2020-06-03      UnMarried  59.059.0  \n",
      "60\n",
      "        NewName  Age                  Email Country    Salary DateOfJoining  \\\n",
      "21  Mark Barber   60  davidcook@example.net     NaN  96746.83    2021-02-27   \n",
      "\n",
      "   Marital Status    NewAge  \n",
      "21      UnMarried  60.060.0  \n",
      "61\n",
      "           NewName  Age                 Email   Country    Salary  \\\n",
      "29  Stephanie Moss   61  qvaughan@example.com  Guernsey  35671.38   \n",
      "\n",
      "   DateOfJoining Marital Status    NewAge  \n",
      "29    2021-11-22      UnMarried  61.061.0  \n",
      "64\n",
      "          NewName  Age                  Email  \\\n",
      "40        invalid   64   mjackson@example.org   \n",
      "49  Amber Mendoza   64  qrobinson@example.com   \n",
      "\n",
      "                                              Country    Salary DateOfJoining  \\\n",
      "40  British Indian Ocean Territory (Chagos Archipe...   25219.6    2024-02-14   \n",
      "49                                             Uganda  47293.85    2021-05-27   \n",
      "\n",
      "   Marital Status    NewAge  \n",
      "40      UnMarried  64.064.0  \n",
      "49      UnMarried  64.064.0  \n",
      "65\n",
      "           NewName  Age                 Email Country    Salary DateOfJoining  \\\n",
      "98  Patricia Singh   65  lramirez@example.org  Greece  85290.44    2020-03-18   \n",
      "\n",
      "   Marital Status    NewAge  \n",
      "98      UnMarried  65.065.0  \n",
      "66\n",
      "                NewName  Age                     Email       Country  \\\n",
      "85  Elizabeth Wilkinson   66  gailmcdonald@example.org  Turkmenistan   \n",
      "\n",
      "      Salary DateOfJoining Marital Status    NewAge  \n",
      "85  69624.01    2023-05-19      UnMarried  66.066.0  \n",
      "68\n",
      "              NewName  Age                    Email Country    Salary  \\\n",
      "3   Kenneth Macdonald   68        ewolf@example.com   Italy  84223.29   \n",
      "65                NaN   68   guyjohnson@example.com   Sudan  80279.35   \n",
      "89       Lauren Jones   68  melissadyer@example.com  Malawi  42435.96   \n",
      "\n",
      "   DateOfJoining Marital Status    NewAge  \n",
      "3     2022-04-07      UnMarried  68.068.0  \n",
      "65    2022-10-21      UnMarried  68.068.0  \n",
      "89    2020-06-12      UnMarried  68.068.0  \n",
      "69\n",
      "           NewName  Age Email  Country    Salary DateOfJoining Marital Status  \\\n",
      "33      Laura Pham   69   NaN   Israel  45046.19    2024-04-01      UnMarried   \n",
      "55  James Williams   69   NaN  Lesotho  84632.67           NaN      UnMarried   \n",
      "\n",
      "      NewAge  \n",
      "33  69.069.0  \n",
      "55  69.069.0  \n",
      "70\n",
      "            NewName  Age                    Email               Country  \\\n",
      "53  Kristin Stewart   70                      NaN                   NaN   \n",
      "74   Whitney Garcia   70  tylergolden@example.com  Netherlands Antilles   \n",
      "\n",
      "      Salary DateOfJoining Marital Status    NewAge  \n",
      "53   73952.9    2021-09-06      UnMarried  70.070.0  \n",
      "74  68794.39    2022-07-23      UnMarried  70.070.0  \n",
      "71\n",
      "   NewName  Age                        Email               Country    Salary  \\\n",
      "27     NaN   71  gillespiecalvin@example.net  Syrian Arab Republic  71049.67   \n",
      "\n",
      "   DateOfJoining Marital Status    NewAge  \n",
      "27    2020-01-20      UnMarried  71.071.0  \n",
      "72\n",
      "   NewName  Age                Email  Country    Salary DateOfJoining  \\\n",
      "97     NaN   72  brian50@example.com  Somalia  90628.22    2020-04-11   \n",
      "\n",
      "   Marital Status    NewAge  \n",
      "97      UnMarried  72.072.0  \n",
      "73\n",
      "            NewName  Age                       Email  \\\n",
      "13   Jessica Rivera   73       fmitchell@example.net   \n",
      "16              NaN   73  johnstonkrista@example.com   \n",
      "76  Angela Thompson   73  petersonshelby@example.org   \n",
      "\n",
      "                     Country    Salary DateOfJoining Marital Status    NewAge  \n",
      "13  Central African Republic  71261.36    2021-05-18      UnMarried  73.073.0  \n",
      "16              Cook Islands  24176.12    2022-10-11      UnMarried  73.073.0  \n",
      "76                   Albania       NaN    2023-05-09      UnMarried  73.073.0  \n",
      "74\n",
      "            NewName  Age                      Email Country    Salary  \\\n",
      "78  Tabitha Delgado   74  lancewilliams@example.net   Sudan  98396.21   \n",
      "86    David Randall   74         cody30@example.net    Niue  43013.14   \n",
      "\n",
      "   DateOfJoining Marital Status    NewAge  \n",
      "78    2022-04-03      UnMarried  74.074.0  \n",
      "86    2024-05-24      UnMarried  74.074.0  \n",
      "76\n",
      "                   NewName  Age                        Email  \\\n",
      "7         Kimberly Roberts   76          lmiller@example.org   \n",
      "10           Olivia Strong   76  schultzpatricia@example.com   \n",
      "28           Ricardo Moody   76         xmorales@example.net   \n",
      "58  Dr. Olivia Caldwell MD   76   hernandezjason@example.com   \n",
      "88             Joel Martin   76        bjacobson@example.com   \n",
      "92            Seth Bradley   76       melissakim@example.org   \n",
      "\n",
      "                       Country    Salary DateOfJoining Marital Status  \\\n",
      "7                  Netherlands  58550.56    2023-07-08      UnMarried   \n",
      "10                South Africa  72362.02    2023-07-27      UnMarried   \n",
      "28                     Bahrain  83514.58    2024-03-29      UnMarried   \n",
      "58                 Philippines  78453.84    2023-07-19      UnMarried   \n",
      "88                       Korea   invalid    2022-05-23      UnMarried   \n",
      "92  Slovakia (Slovak Republic)  49354.13    2021-08-01      UnMarried   \n",
      "\n",
      "      NewAge  \n",
      "7   76.076.0  \n",
      "10  76.076.0  \n",
      "28  76.076.0  \n",
      "58  76.076.0  \n",
      "88  76.076.0  \n",
      "92  76.076.0  \n",
      "77\n",
      "           NewName  Age                     Email Country    Salary  \\\n",
      "18      Greg Gates   77                       NaN     NaN  54383.22   \n",
      "30  Raven Thompson   77  brandibarnes@example.com   Korea  76460.86   \n",
      "54       Julie Kim   77       rmorgan@example.net     NaN   46532.6   \n",
      "\n",
      "   DateOfJoining Marital Status    NewAge  \n",
      "18    2024-05-13      UnMarried  77.077.0  \n",
      "30           NaN      UnMarried  77.077.0  \n",
      "54    2021-03-07      UnMarried  77.077.0  \n",
      "78\n",
      "       NewName  Age Email  Country    Salary DateOfJoining Marital Status  \\\n",
      "4  Julie Horne   78   NaN  Ecuador  24665.13    2020-06-19      UnMarried   \n",
      "\n",
      "     NewAge  \n",
      "4  78.078.0  \n",
      "79\n",
      "         NewName  Age               Email     Country    Salary DateOfJoining  \\\n",
      "72  Morgan Brown   79  wsmith@example.org  Cape Verde  28583.22    2021-03-12   \n",
      "\n",
      "   Marital Status    NewAge  \n",
      "72      UnMarried  79.079.0  \n",
      "80\n",
      "            NewName  Age                   Email                 Country  \\\n",
      "6       James Clark   80     ynguyen@example.net                     NaN   \n",
      "24       Amy Henson   80  tylerwatts@example.org  Bosnia and Herzegovina   \n",
      "39     Lauren Ramos   80    tracey07@example.net                  Zambia   \n",
      "82  Kristi Calderon   80    sharon04@example.com                 Iceland   \n",
      "\n",
      "      Salary DateOfJoining Marital Status    NewAge  \n",
      "6   61345.33           NaN      UnMarried  80.080.0  \n",
      "24  35390.77    2023-12-11      UnMarried  80.080.0  \n",
      "39  74110.67           NaN      UnMarried  80.080.0  \n",
      "82  99507.66    2022-07-09      UnMarried  80.080.0  \n"
     ]
    }
   ],
   "source": [
    "for name, group in df.groupby('Age'):\n",
    "    print(name)\n",
    "    print(group)\n"
   ]
  },
  {
   "cell_type": "markdown",
   "metadata": {},
   "source": [
    "# Task 7: Merging and Joining DataFrames"
   ]
  },
  {
   "cell_type": "markdown",
   "metadata": {},
   "source": [
    "Merge two DataFrames on a common column"
   ]
  },
  {
   "cell_type": "code",
   "execution_count": 65,
   "metadata": {},
   "outputs": [],
   "source": [
    "df1 = pd.DataFrame({'key': ['A', 'B', 'C'], 'value': [1, 2, 3]})\n",
    "df2 = pd.DataFrame({'key': ['A', 'B', 'D'], 'value': [4, 5, 6]})\n",
    "merged_df = pd.merge(df1, df2, on='key')\n"
   ]
  },
  {
   "cell_type": "markdown",
   "metadata": {},
   "source": [
    "Join two DataFrames using their indices"
   ]
  },
  {
   "cell_type": "code",
   "execution_count": 68,
   "metadata": {},
   "outputs": [],
   "source": [
    "df1 = pd.DataFrame({'value': [1, 2, 3]}, index=['A', 'B', 'C'])\n",
    "df2 = pd.DataFrame({'value': [4, 5, 6]}, index=['A', 'B', 'D'])\n",
    "joined_df = df1.join(df2, lsuffix='_left', rsuffix='_right')\n"
   ]
  },
  {
   "cell_type": "markdown",
   "metadata": {},
   "source": [
    " # Task 8: Working with Dates and Times"
   ]
  },
  {
   "cell_type": "markdown",
   "metadata": {},
   "source": [
    "Create a datetime index for the DataFrame"
   ]
  },
  {
   "cell_type": "code",
   "execution_count": 72,
   "metadata": {},
   "outputs": [
    {
     "name": "stdout",
     "output_type": "stream",
     "text": [
      "                         NewName  Age                Email      Country  \\\n",
      "DateOfJoining                                                             \n",
      "2022-09-29               invalid   59  ycastro@example.org  Switzerland   \n",
      "2021-10-04       David Jefferson   21                  NaN        China   \n",
      "2022-05-24         Jessica Reyes   34                  NaN          NaN   \n",
      "2022-04-07     Kenneth Macdonald   68    ewolf@example.com        Italy   \n",
      "2020-06-19           Julie Horne   78                  NaN      Ecuador   \n",
      "\n",
      "                 Salary Marital Status    NewAge  \n",
      "DateOfJoining                                     \n",
      "2022-09-29     44694.24      UnMarried  59.059.0  \n",
      "2021-10-04          NaN      UnMarried  21.021.0  \n",
      "2022-05-24     60511.62      UnMarried  34.034.0  \n",
      "2022-04-07     84223.29      UnMarried  68.068.0  \n",
      "2020-06-19     24665.13      UnMarried  78.078.0  \n"
     ]
    }
   ],
   "source": [
    "df['DateOfJoining'] = pd.to_datetime(df['DateOfJoining'], errors='coerce')\n",
    "df.set_index('DateOfJoining', inplace=True)\n",
    "print(df.head())\n"
   ]
  },
  {
   "cell_type": "markdown",
   "metadata": {},
   "source": [
    "Convert a column to datetime and extract date components"
   ]
  },
  {
   "cell_type": "code",
   "execution_count": 75,
   "metadata": {},
   "outputs": [
    {
     "name": "stdout",
     "output_type": "stream",
     "text": [
      "Index(['NewName', 'Age', 'Email', 'Country', 'Salary', 'Marital Status',\n",
      "       'NewAge'],\n",
      "      dtype='object')\n",
      "                         NewName  Age                Email      Country  \\\n",
      "DateOfJoining                                                             \n",
      "2022-09-29               invalid   59  ycastro@example.org  Switzerland   \n",
      "2021-10-04       David Jefferson   21                  NaN        China   \n",
      "2022-05-24         Jessica Reyes   34                  NaN          NaN   \n",
      "2022-04-07     Kenneth Macdonald   68    ewolf@example.com        Italy   \n",
      "2020-06-19           Julie Horne   78                  NaN      Ecuador   \n",
      "\n",
      "                 Salary Marital Status    NewAge  \n",
      "DateOfJoining                                     \n",
      "2022-09-29     44694.24      UnMarried  59.059.0  \n",
      "2021-10-04          NaN      UnMarried  21.021.0  \n",
      "2022-05-24     60511.62      UnMarried  34.034.0  \n",
      "2022-04-07     84223.29      UnMarried  68.068.0  \n",
      "2020-06-19     24665.13      UnMarried  78.078.0  \n"
     ]
    }
   ],
   "source": [
    "\n",
    "print(df.columns)\n",
    "\n",
    "print(df.head())\n"
   ]
  },
  {
   "cell_type": "code",
   "execution_count": 77,
   "metadata": {},
   "outputs": [
    {
     "name": "stdout",
     "output_type": "stream",
     "text": [
      "        Date            NewName  Age                Email      Country  \\\n",
      "0 2022-09-29            invalid   59  ycastro@example.org  Switzerland   \n",
      "1 2021-10-04    David Jefferson   21                  NaN        China   \n",
      "2 2022-05-24      Jessica Reyes   34                  NaN          NaN   \n",
      "3 2022-04-07  Kenneth Macdonald   68    ewolf@example.com        Italy   \n",
      "4 2020-06-19        Julie Horne   78                  NaN      Ecuador   \n",
      "\n",
      "     Salary Marital Status    NewAge    Year  Month   Day  \n",
      "0  44694.24      UnMarried  59.059.0  2022.0    9.0  29.0  \n",
      "1       NaN      UnMarried  21.021.0  2021.0   10.0   4.0  \n",
      "2  60511.62      UnMarried  34.034.0  2022.0    5.0  24.0  \n",
      "3  84223.29      UnMarried  68.068.0  2022.0    4.0   7.0  \n",
      "4  24665.13      UnMarried  78.078.0  2020.0    6.0  19.0  \n"
     ]
    }
   ],
   "source": [
    "\n",
    "df.reset_index(inplace=True)\n",
    "\n",
    "# Rename the index column to DateOfJoining\n",
    "df.rename(columns={'DateOfJoining': 'Date'}, inplace=True)\n",
    "\n",
    "# Convert 'Date' to datetime, coercing errors to NaT\n",
    "df['Date'] = pd.to_datetime(df['Date'], errors='coerce')\n",
    "\n",
    "\n",
    "df['Year'] = df['Date'].dt.year\n",
    "df['Month'] = df['Date'].dt.month\n",
    "df['Day'] = df['Date'].dt.day\n",
    "\n",
    "\n",
    "print(df.head())\n"
   ]
  },
  {
   "cell_type": "markdown",
   "metadata": {},
   "source": [
    "# Task 9: Input and Output"
   ]
  },
  {
   "cell_type": "markdown",
   "metadata": {},
   "source": [
    "Read data from a CSV file into a DataFram"
   ]
  },
  {
   "cell_type": "code",
   "execution_count": 81,
   "metadata": {},
   "outputs": [],
   "source": [
    "df_csv = pd.read_csv('messed_dataset.csv')\n"
   ]
  },
  {
   "cell_type": "markdown",
   "metadata": {},
   "source": [
    "Write the DataFrame to a CSV file"
   ]
  },
  {
   "cell_type": "code",
   "execution_count": 84,
   "metadata": {},
   "outputs": [],
   "source": [
    "df.to_csv('output.csv', index=False)\n"
   ]
  },
  {
   "cell_type": "markdown",
   "metadata": {},
   "source": [
    "Read data from an Excel file into a DataFrame"
   ]
  },
  {
   "cell_type": "code",
   "execution_count": 87,
   "metadata": {},
   "outputs": [],
   "source": [
    "df_excel = pd.read_excel('SaleData.xlsx')\n"
   ]
  },
  {
   "cell_type": "markdown",
   "metadata": {},
   "source": [
    "Write the DataFrame to an Excel file"
   ]
  },
  {
   "cell_type": "code",
   "execution_count": 90,
   "metadata": {},
   "outputs": [],
   "source": [
    "df.to_excel('output.xlsx', index=False)\n"
   ]
  },
  {
   "cell_type": "markdown",
   "metadata": {},
   "source": [
    "# Section 2: Visualization"
   ]
  },
  {
   "cell_type": "markdown",
   "metadata": {},
   "source": [
    "Task 10: Visualization"
   ]
  },
  {
   "cell_type": "markdown",
   "metadata": {},
   "source": [
    "Create a simple plot using Matplotlib"
   ]
  },
  {
   "cell_type": "code",
   "execution_count": 99,
   "metadata": {},
   "outputs": [
    {
     "data": {
      "image/png": "[encoded data removed]",
      "text/plain": [
       "<Figure size 640x480 with 1 Axes>"
      ]
     },
     "metadata": {},
     "output_type": "display_data"
    }
   ],
   "source": [
    "import matplotlib.pyplot as plt\n",
    "df['Age'].plot()\n",
    "plt.show()\n"
   ]
  },
  {
   "cell_type": "markdown",
   "metadata": {},
   "source": [
    "\n",
    "Create a bar plot using Seaborn:"
   ]
  },
  {
   "cell_type": "code",
   "execution_count": 102,
   "metadata": {},
   "outputs": [
    {
     "data": {
      "image/png": "[encoded data removed]",
      "text/plain": [
       "<Figure size 640x480 with 1 Axes>"
      ]
     },
     "metadata": {},
     "output_type": "display_data"
    }
   ],
   "source": [
    "import seaborn as sns\n",
    "sns.barplot(x='Age', y='Salary', data=df)\n",
    "plt.show()\n"
   ]
  },
  {
   "cell_type": "markdown",
   "metadata": {},
   "source": []
  },
  {
   "cell_type": "code",
   "execution_count": null,
   "metadata": {},
   "outputs": [],
   "source": []
  }
 ],
 "metadata": {
  "kernelspec": {
   "display_name": "Python 3 (ipykernel)",
   "language": "python",
   "name": "python3"
  },
  "language_info": {
   "codemirror_mode": {
    "name": "ipython",
    "version": 3
   },
   "file_extension": ".py",
   "mimetype": "text/x-python",
   "name": "python",
   "nbconvert_exporter": "python",
   "pygments_lexer": "ipython3",
   "version": "3.11.7"
  }
 },
 "nbformat": 4,
 "nbformat_minor": 4
}
