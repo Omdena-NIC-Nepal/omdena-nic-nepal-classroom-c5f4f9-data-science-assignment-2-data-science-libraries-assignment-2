{
 "cells": [
  {
   "cell_type": "markdown",
   "metadata": {},
   "source": [
    "# Task 1: Setup and DataFrame Creation"
   ]
  },
  {
   "cell_type": "code",
   "execution_count": 44,
   "metadata": {},
   "outputs": [],
   "source": [
    "import pandas as pd\n",
    "#Install Pandas (if not already installed).\n",
    "#Import Pandas and any other necessary libraries."
   ]
  },
  {
   "cell_type": "code",
   "execution_count": 45,
   "metadata": {},
   "outputs": [
    {
     "name": "stdout",
     "output_type": "stream",
     "text": [
      "Creating a dataframe from a dictionary\n",
      "   Name  Age City\n",
      "0   Ram   25  Pkr\n",
      "1  Sita   30  Ktm\n",
      "2  Hari   35  Btl\n"
     ]
    }
   ],
   "source": [
    "#Create a DataFrame from a dictionary and from a list of dictionaries.\n",
    "print(\"Creating a dataframe from a dictionary\")\n",
    "# Sample dictionary\n",
    "data = {\n",
    "    'Name': ['Ram', 'Sita', 'Hari'],\n",
    "    'Age': [25, 30, 35],\n",
    "    'City': ['Pkr', 'Ktm', 'Btl']\n",
    "}\n",
    "# Create DataFrame\n",
    "df = pd.DataFrame(data)\n",
    "# Display the DataFrame\n",
    "print(df)"
   ]
  },
  {
   "cell_type": "code",
   "execution_count": 46,
   "metadata": {},
   "outputs": [
    {
     "name": "stdout",
     "output_type": "stream",
     "text": [
      "Creating a dataframe from a  list of dictionaries\n",
      "     Name  Age  City\n",
      "0  Roshan   25  Nplg\n",
      "1  Binita   30   Ktm\n",
      "2   Cetal   35  Ctwn\n"
     ]
    }
   ],
   "source": [
    "print(\"Creating a dataframe from a  list of dictionaries\")\n",
    "import pandas as pd\n",
    "# Sample list of dictionaries\n",
    "data = [\n",
    "    {'Name': 'Roshan', 'Age': 25, 'City': 'Nplg'},\n",
    "    {'Name': 'Binita', 'Age': 30, 'City': 'Ktm'},\n",
    "    {'Name': 'Cetal', 'Age': 35, 'City': 'Ctwn'}\n",
    "]\n",
    "# Create DataFrame\n",
    "df = pd.DataFrame(data)\n",
    "# Display the DataFrame\n",
    "print(df)\n"
   ]
  },
  {
   "cell_type": "code",
   "execution_count": 47,
   "metadata": {},
   "outputs": [
    {
     "name": "stdout",
     "output_type": "stream",
     "text": [
      "                Name   Age                Email      Country    Salary  \\\n",
      "0            invalid  59.0  ycastro@example.org  Switzerland  44694.24   \n",
      "1    David Jefferson  21.0                  NaN        China       NaN   \n",
      "2      Jessica Reyes  34.0                  NaN          NaN  60511.62   \n",
      "3  Kenneth Macdonald  68.0    ewolf@example.com        Italy  84223.29   \n",
      "4        Julie Horne  78.0                  NaN      Ecuador  24665.13   \n",
      "\n",
      "  DateOfJoining  \n",
      "0    2022-09-29  \n",
      "1    2021-10-04  \n",
      "2    2022-05-24  \n",
      "3    2022-04-07  \n",
      "4    2020-06-19  \n"
     ]
    }
   ],
   "source": [
    "#Load a dataset from a CSV file that is provide called messed_dataset.csv\n",
    "df = pd.read_csv('messed_dataset.csv')\n",
    "print(df.head())"
   ]
  },
  {
   "cell_type": "markdown",
   "metadata": {},
   "source": [
    "# Task 2: Viewing and Inspecting Data"
   ]
  },
  {
   "cell_type": "code",
   "execution_count": 48,
   "metadata": {},
   "outputs": [
    {
     "name": "stdout",
     "output_type": "stream",
     "text": [
      "First 7 rows of dataframe\n",
      "                Name   Age                     Email      Country    Salary  \\\n",
      "0            invalid  59.0       ycastro@example.org  Switzerland  44694.24   \n",
      "1    David Jefferson  21.0                       NaN        China       NaN   \n",
      "2      Jessica Reyes  34.0                       NaN          NaN  60511.62   \n",
      "3  Kenneth Macdonald  68.0         ewolf@example.com        Italy  84223.29   \n",
      "4        Julie Horne  78.0                       NaN      Ecuador  24665.13   \n",
      "5   Jonathan Holland  26.0  mayercaitlin@example.org     Cameroon  25660.99   \n",
      "6        James Clark  80.0       ynguyen@example.net          NaN  61345.33   \n",
      "\n",
      "  DateOfJoining  \n",
      "0    2022-09-29  \n",
      "1    2021-10-04  \n",
      "2    2022-05-24  \n",
      "3    2022-04-07  \n",
      "4    2020-06-19  \n",
      "5    2023-05-01  \n",
      "6           NaN  \n"
     ]
    }
   ],
   "source": [
    "# Display the first and last few rows of the DataFrame. \n",
    "print(\"First 7 rows of dataframe\")\n",
    "print(df.head(7))\n"
   ]
  },
  {
   "cell_type": "code",
   "execution_count": 49,
   "metadata": {
    "scrolled": true
   },
   "outputs": [
    {
     "name": "stdout",
     "output_type": "stream",
     "text": [
      "Last 7 rows of dataframe\n",
      "                  Name   Age                     Email            Country  \\\n",
      "93       Alicia Miller  59.0      thomas45@example.net         Mauritania   \n",
      "94        Cody Jackson  48.0    jamieayers@example.net         Luxembourg   \n",
      "95    Garrett Davidson  56.0        gjames@example.com    Solomon Islands   \n",
      "96      Elizabeth Ross  52.0  richardlewis@example.net  Equatorial Guinea   \n",
      "97                 NaN  72.0       brian50@example.com            Somalia   \n",
      "98      Patricia Singh  65.0      lramirez@example.org             Greece   \n",
      "99  Christopher Stokes  42.0                       NaN       South Africa   \n",
      "\n",
      "      Salary DateOfJoining  \n",
      "93  52834.29    2020-06-03  \n",
      "94  55583.62    2021-05-23  \n",
      "95  86227.88           NaN  \n",
      "96  29992.69    2020-04-08  \n",
      "97  90628.22    2020-04-11  \n",
      "98  85290.44    2020-03-18  \n",
      "99  20289.17    2021-09-23  \n"
     ]
    }
   ],
   "source": [
    "print(\"Last 7 rows of dataframe\")\n",
    "print(df.tail(7))"
   ]
  },
  {
   "cell_type": "code",
   "execution_count": 50,
   "metadata": {},
   "outputs": [
    {
     "name": "stdout",
     "output_type": "stream",
     "text": [
      "STATISTICS IS\n",
      "           Name   Age                Email Country   Salary DateOfJoining\n",
      "count        89    97                   80      86       94            79\n",
      "unique       85    53                   80      76       93            79\n",
      "top     invalid  76.0  ycastro@example.org  Greece  invalid    2022-09-29\n",
      "freq          5     6                    1       2        2             1\n"
     ]
    }
   ],
   "source": [
    "#Get a summary of the DataFrame, including basic statistics and data types.\n",
    "print(\"STATISTICS IS\")\n",
    "print(df.describe())"
   ]
  },
  {
   "cell_type": "code",
   "execution_count": 51,
   "metadata": {},
   "outputs": [
    {
     "name": "stdout",
     "output_type": "stream",
     "text": [
      "Information is\n",
      "<class 'pandas.core.frame.DataFrame'>\n",
      "RangeIndex: 100 entries, 0 to 99\n",
      "Data columns (total 6 columns):\n",
      " #   Column         Non-Null Count  Dtype \n",
      "---  ------         --------------  ----- \n",
      " 0   Name           89 non-null     object\n",
      " 1   Age            97 non-null     object\n",
      " 2   Email          80 non-null     object\n",
      " 3   Country        86 non-null     object\n",
      " 4   Salary         94 non-null     object\n",
      " 5   DateOfJoining  79 non-null     object\n",
      "dtypes: object(6)\n",
      "memory usage: 4.8+ KB\n",
      "None\n"
     ]
    }
   ],
   "source": [
    "print(\"Information is\")\n",
    "print(df.info())\n"
   ]
  },
  {
   "cell_type": "code",
   "execution_count": 52,
   "metadata": {},
   "outputs": [
    {
     "name": "stdout",
     "output_type": "stream",
     "text": [
      "Shape of DataFrame\n",
      "(100, 6)\n",
      "List of column name\n",
      "Index(['Name', 'Age', 'Email', 'Country', 'Salary', 'DateOfJoining'], dtype='object')\n"
     ]
    }
   ],
   "source": [
    "#Display the shape and column names of the DataFrame.\n",
    "print(\"Shape of DataFrame\")\n",
    "print(df.shape)\n",
    "print(\"List of column name\")\n",
    "print(df.columns)\n"
   ]
  },
  {
   "cell_type": "markdown",
   "metadata": {},
   "source": [
    "# Task 3: Selection and Indexing"
   ]
  },
  {
   "cell_type": "code",
   "execution_count": 53,
   "metadata": {},
   "outputs": [
    {
     "name": "stdout",
     "output_type": "stream",
     "text": [
      "A column is\n",
      "0                invalid\n",
      "1        David Jefferson\n",
      "2          Jessica Reyes\n",
      "3      Kenneth Macdonald\n",
      "4            Julie Horne\n",
      "             ...        \n",
      "95      Garrett Davidson\n",
      "96        Elizabeth Ross\n",
      "97                   NaN\n",
      "98        Patricia Singh\n",
      "99    Christopher Stokes\n",
      "Name: Name, Length: 100, dtype: object\n"
     ]
    }
   ],
   "source": [
    "# Select a single column and multiple columns.\n",
    "print(\"A column is\")\n",
    "print(df['Name'])"
   ]
  },
  {
   "cell_type": "code",
   "execution_count": 54,
   "metadata": {},
   "outputs": [
    {
     "name": "stdout",
     "output_type": "stream",
     "text": [
      "Multiple Colums\n",
      "                  Name                     Email\n",
      "0              invalid       ycastro@example.org\n",
      "1      David Jefferson                       NaN\n",
      "2        Jessica Reyes                       NaN\n",
      "3    Kenneth Macdonald         ewolf@example.com\n",
      "4          Julie Horne                       NaN\n",
      "..                 ...                       ...\n",
      "95    Garrett Davidson        gjames@example.com\n",
      "96      Elizabeth Ross  richardlewis@example.net\n",
      "97                 NaN       brian50@example.com\n",
      "98      Patricia Singh      lramirez@example.org\n",
      "99  Christopher Stokes                       NaN\n",
      "\n",
      "[100 rows x 2 columns]\n"
     ]
    }
   ],
   "source": [
    "print (\"Multiple Colums\")\n",
    "print(df[['Name','Email']])"
   ]
  },
  {
   "cell_type": "code",
   "execution_count": 55,
   "metadata": {},
   "outputs": [
    {
     "name": "stdout",
     "output_type": "stream",
     "text": [
      "SELECT ROWS BY INDEX\n",
      "                Name   Age                Email      Country    Salary  \\\n",
      "0            invalid  59.0  ycastro@example.org  Switzerland  44694.24   \n",
      "1    David Jefferson  21.0                  NaN        China       NaN   \n",
      "2      Jessica Reyes  34.0                  NaN          NaN  60511.62   \n",
      "3  Kenneth Macdonald  68.0    ewolf@example.com        Italy  84223.29   \n",
      "\n",
      "  DateOfJoining  \n",
      "0    2022-09-29  \n",
      "1    2021-10-04  \n",
      "2    2022-05-24  \n",
      "3    2022-04-07  \n",
      "SELECT ROWS BY LABEL\n"
     ]
    },
    {
     "data": {
      "text/plain": [
       "Name             Jessica Reyes\n",
       "Age                       34.0\n",
       "Email                      NaN\n",
       "Country                    NaN\n",
       "Salary                60511.62\n",
       "DateOfJoining       2022-05-24\n",
       "Name: 2, dtype: object"
      ]
     },
     "execution_count": 55,
     "metadata": {},
     "output_type": "execute_result"
    }
   ],
   "source": [
    "#Select rows by index and by label.\n",
    "print (\"SELECT ROWS BY INDEX\")\n",
    "print (df.iloc[0:4])\n",
    "print (\"SELECT ROWS BY LABEL\")\n",
    "df.loc[2]"
   ]
  },
  {
   "cell_type": "code",
   "execution_count": 56,
   "metadata": {},
   "outputs": [
    {
     "name": "stdout",
     "output_type": "stream",
     "text": [
      "Head with 10 data\n",
      "                Name   Age                      Email      Country    Salary  \\\n",
      "0            invalid  59.0        ycastro@example.org  Switzerland  44694.24   \n",
      "1    David Jefferson  21.0                        NaN        China       NaN   \n",
      "2      Jessica Reyes  34.0                        NaN          NaN  60511.62   \n",
      "3  Kenneth Macdonald  68.0          ewolf@example.com        Italy  84223.29   \n",
      "4        Julie Horne  78.0                        NaN      Ecuador  24665.13   \n",
      "5   Jonathan Holland  26.0   mayercaitlin@example.org     Cameroon  25660.99   \n",
      "6        James Clark  80.0        ynguyen@example.net          NaN  61345.33   \n",
      "7   Kimberly Roberts  76.0        lmiller@example.org  Netherlands  58550.56   \n",
      "8  Barbara Armstrong  22.0      fmitchell@example.com          NaN       NaN   \n",
      "9        Jason Perez  59.0  collinsedward@example.com      Myanmar  20175.11   \n",
      "\n",
      "  DateOfJoining  \n",
      "0    2022-09-29  \n",
      "1    2021-10-04  \n",
      "2    2022-05-24  \n",
      "3    2022-04-07  \n",
      "4    2020-06-19  \n",
      "5    2023-05-01  \n",
      "6           NaN  \n",
      "7    2023-07-08  \n",
      "8           NaN  \n",
      "9    2024-04-11  \n",
      "\n",
      "\n",
      "PRINT USING LOC\n",
      "              Name Email\n",
      "1  David Jefferson   NaN\n",
      "2    Jessica Reyes   NaN\n",
      "\n",
      "\n",
      "PRINT USING ILOC\n",
      "  Email DateOfJoining\n",
      "1   NaN    2021-10-04\n",
      "2   NaN    2022-05-24\n"
     ]
    }
   ],
   "source": [
    "#Select specific rows and columns using loc and iloc.\n",
    "print(\"Head with 10 data\")\n",
    "print(df.head(10))\n",
    "print(\"\\n\")\n",
    "print (\"PRINT USING LOC\")\n",
    "print(df.loc[[1,2], ['Name','Email']])\n",
    "print(\"\\n\")\n",
    "print(\"PRINT USING ILOC\")\n",
    "print(df.iloc[[1,2],[2,5]])"
   ]
  },
  {
   "cell_type": "markdown",
   "metadata": {},
   "source": [
    "# Task 4: Handling Missing Data "
   ]
  },
  {
   "cell_type": "code",
   "execution_count": 57,
   "metadata": {},
   "outputs": [
    {
     "name": "stdout",
     "output_type": "stream",
     "text": [
      "Name             11\n",
      "Age               3\n",
      "Email            20\n",
      "Country          14\n",
      "Salary            6\n",
      "DateOfJoining    21\n",
      "dtype: int64\n"
     ]
    }
   ],
   "source": [
    "# Identify missing values in the DataFrame.\n",
    "print (df.isnull().sum())"
   ]
  },
  {
   "cell_type": "code",
   "execution_count": 60,
   "metadata": {},
   "outputs": [
    {
     "name": "stdout",
     "output_type": "stream",
     "text": [
      "After droping missing values\n",
      "Name             0\n",
      "Age              0\n",
      "Email            0\n",
      "Country          0\n",
      "Salary           0\n",
      "DateOfJoining    0\n",
      "dtype: int64\n"
     ]
    }
   ],
   "source": [
    "#Drop rows with missing values.\n",
    "df_clean=df.dropna()\n",
    "print(\"After droping missing values\")\n",
    "print(df_clean.isnull().sum())"
   ]
  },
  {
   "cell_type": "code",
   "execution_count": 61,
   "metadata": {},
   "outputs": [
    {
     "name": "stdout",
     "output_type": "stream",
     "text": [
      "Before filling\n",
      "                Name   Age                      Email      Country    Salary  \\\n",
      "0            invalid  59.0        ycastro@example.org  Switzerland  44694.24   \n",
      "1    David Jefferson  21.0                        NaN        China       NaN   \n",
      "2      Jessica Reyes  34.0                        NaN          NaN  60511.62   \n",
      "3  Kenneth Macdonald  68.0          ewolf@example.com        Italy  84223.29   \n",
      "4        Julie Horne  78.0                        NaN      Ecuador  24665.13   \n",
      "5   Jonathan Holland  26.0   mayercaitlin@example.org     Cameroon  25660.99   \n",
      "6        James Clark  80.0        ynguyen@example.net          NaN  61345.33   \n",
      "7   Kimberly Roberts  76.0        lmiller@example.org  Netherlands  58550.56   \n",
      "8  Barbara Armstrong  22.0      fmitchell@example.com          NaN       NaN   \n",
      "9        Jason Perez  59.0  collinsedward@example.com      Myanmar  20175.11   \n",
      "\n",
      "  DateOfJoining  \n",
      "0    2022-09-29  \n",
      "1    2021-10-04  \n",
      "2    2022-05-24  \n",
      "3    2022-04-07  \n",
      "4    2020-06-19  \n",
      "5    2023-05-01  \n",
      "6           NaN  \n",
      "7    2023-07-08  \n",
      "8           NaN  \n",
      "9    2024-04-11  \n",
      "After filling\n",
      "                Name   Age                      Email      Country    Salary  \\\n",
      "0            invalid  59.0        ycastro@example.org  Switzerland  44694.24   \n",
      "1    David Jefferson  21.0             Test@gamil.com        China      4545   \n",
      "2      Jessica Reyes  34.0             Test@gamil.com          NIC  60511.62   \n",
      "3  Kenneth Macdonald  68.0          ewolf@example.com        Italy  84223.29   \n",
      "4        Julie Horne  78.0             Test@gamil.com      Ecuador  24665.13   \n",
      "5   Jonathan Holland  26.0   mayercaitlin@example.org     Cameroon  25660.99   \n",
      "6        James Clark  80.0        ynguyen@example.net          NIC  61345.33   \n",
      "7   Kimberly Roberts  76.0        lmiller@example.org  Netherlands  58550.56   \n",
      "8  Barbara Armstrong  22.0      fmitchell@example.com          NIC      4545   \n",
      "9        Jason Perez  59.0  collinsedward@example.com      Myanmar  20175.11   \n",
      "\n",
      "  DateOfJoining  \n",
      "0    2022-09-29  \n",
      "1    2021-10-04  \n",
      "2    2022-05-24  \n",
      "3    2022-04-07  \n",
      "4    2020-06-19  \n",
      "5    2023-05-01  \n",
      "6    2024-04-04  \n",
      "7    2023-07-08  \n",
      "8    2024-04-04  \n",
      "9    2024-04-11  \n",
      "Name             0\n",
      "Age              0\n",
      "Email            0\n",
      "Country          0\n",
      "Salary           0\n",
      "DateOfJoining    0\n",
      "dtype: int64\n"
     ]
    }
   ],
   "source": [
    "#Fill missing values with a specified value.\n",
    "print(\"Before filling\")\n",
    "print(df.head(10))\n",
    "df.fillna({'Name': 'test', 'Age': 20, 'Email': 'Test@gamil.com','Country':\"NIC\", 'Salary':4545 ,\n",
    "               'DateOfJoining':'2024-04-04'},inplace = True)\n",
    "print(\"After filling\")\n",
    "print(df.head(10))\n",
    "print(df.isnull().sum())"
   ]
  },
  {
   "cell_type": "markdown",
   "metadata": {},
   "source": [
    "# Task 5: Data Operations"
   ]
  },
  {
   "cell_type": "code",
   "execution_count": 63,
   "metadata": {},
   "outputs": [
    {
     "name": "stdout",
     "output_type": "stream",
     "text": [
      "Before adding column\n",
      "                Name   Age                      Email      Country    Salary  \\\n",
      "0            invalid  59.0        ycastro@example.org  Switzerland  44694.24   \n",
      "1    David Jefferson  21.0             Test@gamil.com        China      4545   \n",
      "2      Jessica Reyes  34.0             Test@gamil.com          NIC  60511.62   \n",
      "3  Kenneth Macdonald  68.0          ewolf@example.com        Italy  84223.29   \n",
      "4        Julie Horne  78.0             Test@gamil.com      Ecuador  24665.13   \n",
      "5   Jonathan Holland  26.0   mayercaitlin@example.org     Cameroon  25660.99   \n",
      "6        James Clark  80.0        ynguyen@example.net          NIC  61345.33   \n",
      "7   Kimberly Roberts  76.0        lmiller@example.org  Netherlands  58550.56   \n",
      "8  Barbara Armstrong  22.0      fmitchell@example.com          NIC      4545   \n",
      "9        Jason Perez  59.0  collinsedward@example.com      Myanmar  20175.11   \n",
      "\n",
      "  DateOfJoining  \n",
      "0    2022-09-29  \n",
      "1    2021-10-04  \n",
      "2    2022-05-24  \n",
      "3    2022-04-07  \n",
      "4    2020-06-19  \n",
      "5    2023-05-01  \n",
      "6    2024-04-04  \n",
      "7    2023-07-08  \n",
      "8    2024-04-04  \n",
      "9    2024-04-11  \n",
      "                Name   Age                      Email      Country    Salary  \\\n",
      "0            invalid  59.0        ycastro@example.org  Switzerland  44694.24   \n",
      "1    David Jefferson  21.0             Test@gamil.com        China      4545   \n",
      "2      Jessica Reyes  34.0             Test@gamil.com          NIC  60511.62   \n",
      "3  Kenneth Macdonald  68.0          ewolf@example.com        Italy  84223.29   \n",
      "4        Julie Horne  78.0             Test@gamil.com      Ecuador  24665.13   \n",
      "5   Jonathan Holland  26.0   mayercaitlin@example.org     Cameroon  25660.99   \n",
      "6        James Clark  80.0        ynguyen@example.net          NIC  61345.33   \n",
      "7   Kimberly Roberts  76.0        lmiller@example.org  Netherlands  58550.56   \n",
      "8  Barbara Armstrong  22.0      fmitchell@example.com          NIC      4545   \n",
      "9        Jason Perez  59.0  collinsedward@example.com      Myanmar  20175.11   \n",
      "\n",
      "  DateOfJoining  Add  \n",
      "0    2022-09-29  Add  \n",
      "1    2021-10-04  Add  \n",
      "2    2022-05-24  Add  \n",
      "3    2022-04-07  Add  \n",
      "4    2020-06-19  Add  \n",
      "5    2023-05-01  Add  \n",
      "6    2024-04-04  Add  \n",
      "7    2023-07-08  Add  \n",
      "8    2024-04-04  Add  \n",
      "9    2024-04-11  Add  \n"
     ]
    }
   ],
   "source": [
    "#Add a new column to the DataFrame.\n",
    "print(\"Before adding column\")\n",
    "print(df.head(10))\n",
    "df[\"Add\"]=\"Add\"\n",
    "print(df.head(10))"
   ]
  },
  {
   "cell_type": "code",
   "execution_count": 66,
   "metadata": {},
   "outputs": [
    {
     "name": "stdout",
     "output_type": "stream",
     "text": [
      "                Name   Age                Email      Country    Salary  \\\n",
      "0            invalid  59.0  ycastro@example.org  Switzerland  44694.24   \n",
      "1    David Jefferson  21.0       Test@gamil.com        China      4545   \n",
      "2      Jessica Reyes  34.0       Test@gamil.com          NIC  60511.62   \n",
      "3  Kenneth Macdonald  68.0    ewolf@example.com        Italy  84223.29   \n",
      "4        Julie Horne  78.0       Test@gamil.com      Ecuador  24665.13   \n",
      "\n",
      "  DateOfJoining  \n",
      "0    2022-09-29  \n",
      "1    2021-10-04  \n",
      "2    2022-05-24  \n",
      "3    2022-04-07  \n",
      "4    2020-06-19  \n"
     ]
    }
   ],
   "source": [
    "#Delete a column from the DataFrame.\n",
    "df.drop(columns=['Add'],inplace=True)\n",
    "print(df.head())"
   ]
  },
  {
   "cell_type": "code",
   "execution_count": 67,
   "metadata": {},
   "outputs": [
    {
     "name": "stdout",
     "output_type": "stream",
     "text": [
      "                Name   Age                Email      Country    Salary  \\\n",
      "0            invalid  59.0  ycastro@example.org  Switzerland  44694.24   \n",
      "1    David Jefferson  21.0       Test@gamil.com        China      4545   \n",
      "2      Jessica Reyes  34.0       Test@gamil.com          NIC  60511.62   \n",
      "3  Kenneth Macdonald  68.0    ewolf@example.com        Italy  84223.29   \n",
      "4        Julie Horne  78.0       Test@gamil.com      Ecuador  24665.13   \n",
      "\n",
      "         Date  \n",
      "0  2022-09-29  \n",
      "1  2021-10-04  \n",
      "2  2022-05-24  \n",
      "3  2022-04-07  \n",
      "4  2020-06-19  \n"
     ]
    }
   ],
   "source": [
    "#Rename columns in the DataFrame.\n",
    "df.rename(columns={'DateOfJoining':'Date'}, inplace = True)\n",
    "print(df.head())\n"
   ]
  },
  {
   "cell_type": "code",
   "execution_count": 68,
   "metadata": {},
   "outputs": [
    {
     "name": "stdout",
     "output_type": "stream",
     "text": [
      "                Name   Age                Email      Country    Salary  \\\n",
      "0            invalid  59.0  ycastro@example.org  Switzerland  44694.24   \n",
      "1    David Jefferson  21.0       Test@gamil.com        China      4545   \n",
      "2      Jessica Reyes  34.0       Test@gamil.com          NIC  60511.62   \n",
      "3  Kenneth Macdonald  68.0    ewolf@example.com        Italy  84223.29   \n",
      "4        Julie Horne  78.0       Test@gamil.com      Ecuador  24665.13   \n",
      "\n",
      "         Date  \n",
      "0  2022-09-29  \n",
      "1  2021-10-04  \n",
      "2  2022-05-24  \n",
      "3  2022-04-07  \n",
      "4  2020-06-19  \n"
     ]
    }
   ],
   "source": [
    "#Apply a function to a column.\n",
    "df['Salary'].apply(lambda x: x*2)\n",
    "print(df.head())"
   ]
  },
  {
   "cell_type": "markdown",
   "metadata": {},
   "source": [
    "# Task 6: GroupBy Operations"
   ]
  },
  {
   "cell_type": "code",
   "execution_count": 69,
   "metadata": {},
   "outputs": [
    {
     "data": {
      "text/plain": [
       "Country\n",
       "Albania       4545.00\n",
       "Angola       64674.33\n",
       "Anguilla     56583.58\n",
       "Armenia      57795.75\n",
       "Bahamas      78048.75\n",
       "               ...   \n",
       "Uganda       47293.85\n",
       "Venezuela    93339.52\n",
       "Yemen        48996.74\n",
       "Zambia       74110.67\n",
       "invalid      73916.51\n",
       "Name: Salary, Length: 76, dtype: float64"
      ]
     },
     "execution_count": 69,
     "metadata": {},
     "output_type": "execute_result"
    }
   ],
   "source": [
    "# Group the DataFrame by a column and calculate summary statistics.\n",
    "df['Salary'] = pd.to_numeric(df['Salary'], errors ='coerce')\n",
    "\n",
    "# Fill null values in Salary column\n",
    "df['Salary'].fillna(0)\n",
    "\n",
    "# Drop columns with empty values\n",
    "df = df.dropna()\n",
    "\n",
    "# Group by country to get mean salary\n",
    "df.groupby('Country')['Salary'].mean()"
   ]
  },
  {
   "cell_type": "code",
   "execution_count": 70,
   "metadata": {},
   "outputs": [
    {
     "name": "stdout",
     "output_type": "stream",
     "text": [
      "Group name: 20\n",
      "             Name Age                     Email              Country  \\\n",
      "17           test  20       julia08@example.com            Venezuela   \n",
      "47  Matthew Stone  20  jessicamoody@example.com                  NIC   \n",
      "75        invalid  20    ericnguyen@example.com  Trinidad and Tobago   \n",
      "\n",
      "      Salary        Date  \n",
      "17  93339.52  2020-11-11  \n",
      "47  28874.43  2020-07-06  \n",
      "75  49670.61  2020-11-22  \n",
      "\n",
      "\n",
      "Group name: 18.0\n",
      "                Name   Age           Email Country    Salary        Date\n",
      "46  Marissa Williams  18.0  Test@gamil.com     NIC  46658.98  2020-07-14\n",
      "\n",
      "\n",
      "Group name: 19.0\n",
      "                Name   Age                  Email  Country    Salary  \\\n",
      "57           invalid  19.0         Test@gamil.com      NIC  36728.76   \n",
      "69  Michael Oconnell  19.0  fdelacruz@example.org  Grenada  62929.05   \n",
      "\n",
      "          Date  \n",
      "57  2021-04-22  \n",
      "69  2022-01-21  \n",
      "\n",
      "\n",
      "Group name: 20.0\n",
      "    Name   Age           Email                    Country    Salary  \\\n",
      "25  test  20.0  Test@gamil.com  Bouvet Island (Bouvetoya)  73892.64   \n",
      "\n",
      "          Date  \n",
      "25  2023-08-26  \n",
      "\n",
      "\n",
      "Group name: 21.0\n",
      "               Name   Age           Email   Country    Salary        Date\n",
      "1   David Jefferson  21.0  Test@gamil.com     China   4545.00  2021-10-04\n",
      "12    Kelly Schultz  21.0  Test@gamil.com  Kiribati  93448.73  2023-07-24\n",
      "42   Calvin Herrera  21.0  Test@gamil.com     China  50975.46  2024-04-04\n",
      "\n",
      "\n",
      "Group name: 22.0\n",
      "                 Name   Age                  Email       Country    Salary  \\\n",
      "8   Barbara Armstrong  22.0  fmitchell@example.com           NIC   4545.00   \n",
      "36    Keith Velazquez  22.0  charles82@example.net  Burkina Faso  81661.97   \n",
      "79   Shannon Gonzalez  22.0     jean37@example.net           NIC  64831.97   \n",
      "\n",
      "          Date  \n",
      "8   2024-04-04  \n",
      "36  2024-03-27  \n",
      "79  2024-04-04  \n",
      "\n",
      "\n",
      "Group name: 24.0\n",
      "    Name   Age                  Email Country    Salary        Date\n",
      "62  test  24.0  katelyn76@example.net   Yemen  61256.89  2020-01-06\n",
      "\n",
      "\n",
      "Group name: 26.0\n",
      "                Name   Age                      Email   Country    Salary  \\\n",
      "5   Jonathan Holland  26.0   mayercaitlin@example.org  Cameroon  25660.99   \n",
      "31      William Peck  26.0  christopher37@example.org       NIC  42155.66   \n",
      "\n",
      "          Date  \n",
      "5   2023-05-01  \n",
      "31  2024-04-04  \n",
      "\n",
      "\n",
      "Group name: 27.0\n",
      "              Name   Age                     Email   Country    Salary  \\\n",
      "61  Terri Phillips  27.0  garyanderson@example.net  Cambodia  47755.97   \n",
      "71    Chase Parker  27.0            Test@gamil.com   Belgium  28097.50   \n",
      "\n",
      "          Date  \n",
      "61     invalid  \n",
      "71  2024-04-04  \n",
      "\n",
      "\n",
      "Group name: 28.0\n",
      "               Name   Age                     Email Country  Salary  \\\n",
      "48  Charles Sanchez  28.0  jenkinsmaria@example.net   Chile  4545.0   \n",
      "\n",
      "          Date  \n",
      "48  2024-04-04  \n",
      "\n",
      "\n",
      "Group name: 29.0\n",
      "             Name   Age                      Email      Country    Salary  \\\n",
      "68  Justin Wright  29.0  elizabethreid@example.org  Timor-Leste  28951.24   \n",
      "\n",
      "          Date  \n",
      "68  2020-02-21  \n",
      "\n",
      "\n",
      "Group name: 30.0\n",
      "          Name   Age                Email Country    Salary        Date\n",
      "22  John Hicks  30.0  catkins@example.org  Mexico  80906.51  2024-04-04\n",
      "\n",
      "\n",
      "Group name: 31.0\n",
      "        Name   Age           Email  Country    Salary        Date\n",
      "19  Amy Sims  31.0  Test@gamil.com  Bolivia  51559.83  2023-08-22\n",
      "\n",
      "\n",
      "Group name: 32.0\n",
      "              Name   Age                Email  Country    Salary        Date\n",
      "73  Mitchell Smith  32.0  spierce@example.com  Armenia  57795.75  2021-04-19\n",
      "\n",
      "\n",
      "Group name: 33.0\n",
      "    Name   Age                    Email  Country    Salary        Date\n",
      "50  test  33.0  robertsmith@example.net  Nigeria  99405.51  2024-04-04\n",
      "\n",
      "\n",
      "Group name: 34.0\n",
      "            Name   Age           Email Country    Salary        Date\n",
      "2  Jessica Reyes  34.0  Test@gamil.com     NIC  60511.62  2022-05-24\n",
      "\n",
      "\n",
      "Group name: 35.0\n",
      "               Name   Age                        Email    Country    Salary  \\\n",
      "35    Rebecca Davis  35.0  wallacejennifer@example.net  Sri Lanka  66871.64   \n",
      "44     Brandi White  35.0            mhall@example.net   Tanzania  21408.87   \n",
      "45  Melanie Buckley  35.0               Test@gamil.com       Mali  78258.04   \n",
      "\n",
      "          Date  \n",
      "35  2022-08-06  \n",
      "44  2020-11-26  \n",
      "45  2024-04-04  \n",
      "\n",
      "\n",
      "Group name: 38.0\n",
      "            Name   Age           Email Country    Salary        Date\n",
      "38  Lindsey York  38.0  Test@gamil.com  Mexico  97896.77  2022-03-05\n",
      "\n",
      "\n",
      "Group name: 40.0\n",
      "                  Name   Age                   Email               Country  \\\n",
      "37  Christopher Martin  40.0      tina11@example.com  Netherlands Antilles   \n",
      "51      Whitney Graham  40.0  zrodriguez@example.org            Mozambique   \n",
      "70    Christina Garcia  40.0   kathryn18@example.org               invalid   \n",
      "\n",
      "      Salary        Date  \n",
      "37  81367.57  2020-07-30  \n",
      "51  98826.59  2023-05-08  \n",
      "70  73916.51  2023-11-13  \n",
      "\n",
      "\n",
      "Group name: 42.0\n",
      "                  Name   Age                        Email         Country  \\\n",
      "87         Nancy Irwin  42.0      juliaweaver@example.net  Czech Republic   \n",
      "91      Ryan Middleton  42.0  mcconnellashley@example.net         Bahamas   \n",
      "99  Christopher Stokes  42.0               Test@gamil.com    South Africa   \n",
      "\n",
      "      Salary        Date  \n",
      "87  29455.00  2020-07-21  \n",
      "91  78048.75  2021-04-05  \n",
      "99  20289.17  2021-09-23  \n",
      "\n",
      "\n",
      "Group name: 43.0\n",
      "             Name   Age                    Email        Country    Salary  \\\n",
      "64  Andrew Bryant  43.0  jacobtorres@example.com       Colombia  32205.53   \n",
      "80   David Walker  43.0      linda84@example.net  Guinea-Bissau  89683.17   \n",
      "90        invalid  43.0           Test@gamil.com      Indonesia  41928.20   \n",
      "\n",
      "          Date  \n",
      "64  2020-10-26  \n",
      "80  2021-06-20  \n",
      "90  2020-05-08  \n",
      "\n",
      "\n",
      "Group name: 44.0\n",
      "                 Name   Age                Email Country   Salary        Date\n",
      "52  Patrick Brown PhD  44.0  james16@example.net  Greece  83842.6  2020-07-12\n",
      "\n",
      "\n",
      "Group name: 45.0\n",
      "           Name   Age              Email  Country    Salary        Date\n",
      "81  Brandi Long  45.0  vford@example.com  Ecuador  30773.53  2020-06-29\n",
      "\n",
      "\n",
      "Group name: 46.0\n",
      "             Name   Age                  Email Country   Salary        Date\n",
      "20  Dylan Simpson  46.0  jessica74@example.net  Serbia  59670.5  2021-10-31\n",
      "\n",
      "\n",
      "Group name: 47.0\n",
      "               Name   Age                    Email  \\\n",
      "63  Wesley Whitaker  47.0           Test@gamil.com   \n",
      "67             test  47.0  stephanie20@example.net   \n",
      "83     Kendra Mason  47.0  megancarter@example.com   \n",
      "\n",
      "                                              Country    Salary        Date  \n",
      "63  British Indian Ocean Territory (Chagos Archipe...  97832.79  2020-12-20  \n",
      "67                                              Macao  36365.55  2024-04-04  \n",
      "83                                            Moldova  34369.87  2023-07-09  \n",
      "\n",
      "\n",
      "Group name: 48.0\n",
      "            Name   Age                   Email     Country    Salary  \\\n",
      "94  Cody Jackson  48.0  jamieayers@example.net  Luxembourg  55583.62   \n",
      "\n",
      "          Date  \n",
      "94  2021-05-23  \n",
      "\n",
      "\n",
      "Group name: 49.0\n",
      "             Name   Age                     Email  Country    Salary  \\\n",
      "77  Phillip Garza  49.0  brandimclean@example.org  Georgia  34326.41   \n",
      "\n",
      "          Date  \n",
      "77  2024-04-04  \n",
      "\n",
      "\n",
      "Group name: 50.0\n",
      "              Name   Age                Email                   Country  \\\n",
      "60  Thomas Navarro  50.0  psnyder@example.org  Turks and Caicos Islands   \n",
      "\n",
      "      Salary        Date  \n",
      "60  86286.69  2020-11-03  \n",
      "\n",
      "\n",
      "Group name: 51.0\n",
      "            Name   Age                       Email Country    Salary  \\\n",
      "56  Melissa Cook  51.0  thompsonhunter@example.org     NIC  52040.14   \n",
      "\n",
      "          Date  \n",
      "56  2022-04-04  \n",
      "\n",
      "\n",
      "Group name: 52.0\n",
      "              Name   Age                     Email            Country  \\\n",
      "41    Nichole Mora  52.0   turnersarah@example.net             Angola   \n",
      "96  Elizabeth Ross  52.0  richardlewis@example.net  Equatorial Guinea   \n",
      "\n",
      "      Salary        Date  \n",
      "41  64674.33  2024-04-04  \n",
      "96  29992.69  2020-04-08  \n",
      "\n",
      "\n",
      "Group name: 53.0\n",
      "           Name   Age           Email Country  Salary        Date\n",
      "14  James Lloyd  53.0  Test@gamil.com     NIC  4545.0  2024-04-04\n",
      "\n",
      "\n",
      "Group name: 55.0\n",
      "             Name   Age               Email  Country  Salary        Date\n",
      "34  David Shields  55.0  brad93@example.net  Burundi  4545.0  2023-11-27\n",
      "\n",
      "\n",
      "Group name: 56.0\n",
      "                Name   Age                   Email                  Country  \\\n",
      "11      Keith Deleon  56.0  josephwall@example.com  Cocos (Keeling) Islands   \n",
      "23        Karen Ward  56.0    daniel47@example.com                    Congo   \n",
      "95  Garrett Davidson  56.0      gjames@example.com          Solomon Islands   \n",
      "\n",
      "      Salary        Date  \n",
      "11  23361.13  2024-04-04  \n",
      "23  83580.80  2022-04-09  \n",
      "95  86227.88  2024-04-04  \n",
      "\n",
      "\n",
      "Group name: 57.0\n",
      "           Name   Age                      Email           Country    Salary  \\\n",
      "32         test  57.0  danielperkins@example.org          Barbados  78620.54   \n",
      "59  Diane Smith  57.0        david44@example.net  Saint Barthelemy  86579.95   \n",
      "\n",
      "          Date  \n",
      "32  2024-05-17  \n",
      "59  2020-07-27  \n",
      "\n",
      "\n",
      "Group name: 58.0\n",
      "             Name   Age                    Email  Country    Salary  \\\n",
      "66   Karen Peters  58.0     ricelisa@example.net    Yemen  36736.59   \n",
      "84  Debbie Romero  58.0  nathaniel61@example.net  Reunion  39875.14   \n",
      "\n",
      "          Date  \n",
      "66  2024-04-04  \n",
      "84  2023-02-11  \n",
      "\n",
      "\n",
      "Group name: 59.0\n",
      "             Name   Age                      Email      Country    Salary  \\\n",
      "0         invalid  59.0        ycastro@example.org  Switzerland  44694.24   \n",
      "9     Jason Perez  59.0  collinsedward@example.com      Myanmar  20175.11   \n",
      "26           test  59.0          amy02@example.net     Anguilla  56583.58   \n",
      "93  Alicia Miller  59.0       thomas45@example.net   Mauritania  52834.29   \n",
      "\n",
      "          Date  \n",
      "0   2022-09-29  \n",
      "9   2024-04-11  \n",
      "26  2024-04-04  \n",
      "93  2020-06-03  \n",
      "\n",
      "\n",
      "Group name: 60.0\n",
      "           Name   Age                  Email Country    Salary        Date\n",
      "21  Mark Barber  60.0  davidcook@example.net     NIC  96746.83  2021-02-27\n",
      "\n",
      "\n",
      "Group name: 61.0\n",
      "              Name   Age                 Email   Country    Salary        Date\n",
      "29  Stephanie Moss  61.0  qvaughan@example.com  Guernsey  35671.38  2021-11-22\n",
      "\n",
      "\n",
      "Group name: 64.0\n",
      "             Name   Age                  Email  \\\n",
      "40        invalid  64.0   mjackson@example.org   \n",
      "49  Amber Mendoza  64.0  qrobinson@example.com   \n",
      "\n",
      "                                              Country    Salary        Date  \n",
      "40  British Indian Ocean Territory (Chagos Archipe...  25219.60  2024-02-14  \n",
      "49                                             Uganda  47293.85  2021-05-27  \n",
      "\n",
      "\n",
      "Group name: 65.0\n",
      "              Name   Age                 Email Country    Salary        Date\n",
      "98  Patricia Singh  65.0  lramirez@example.org  Greece  85290.44  2020-03-18\n",
      "\n",
      "\n",
      "Group name: 66.0\n",
      "                   Name   Age                     Email       Country  \\\n",
      "85  Elizabeth Wilkinson  66.0  gailmcdonald@example.org  Turkmenistan   \n",
      "\n",
      "      Salary        Date  \n",
      "85  69624.01  2023-05-19  \n",
      "\n",
      "\n",
      "Group name: 68.0\n",
      "                 Name   Age                    Email Country    Salary  \\\n",
      "3   Kenneth Macdonald  68.0        ewolf@example.com   Italy  84223.29   \n",
      "65               test  68.0   guyjohnson@example.com   Sudan  80279.35   \n",
      "89       Lauren Jones  68.0  melissadyer@example.com  Malawi  42435.96   \n",
      "\n",
      "          Date  \n",
      "3   2022-04-07  \n",
      "65  2022-10-21  \n",
      "89  2020-06-12  \n",
      "\n",
      "\n",
      "Group name: 69.0\n",
      "              Name   Age           Email  Country    Salary        Date\n",
      "33      Laura Pham  69.0  Test@gamil.com   Israel  45046.19  2024-04-01\n",
      "55  James Williams  69.0  Test@gamil.com  Lesotho  84632.67  2024-04-04\n",
      "\n",
      "\n",
      "Group name: 70.0\n",
      "               Name   Age                    Email               Country  \\\n",
      "53  Kristin Stewart  70.0           Test@gamil.com                   NIC   \n",
      "74   Whitney Garcia  70.0  tylergolden@example.com  Netherlands Antilles   \n",
      "\n",
      "      Salary        Date  \n",
      "53  73952.90  2021-09-06  \n",
      "74  68794.39  2022-07-23  \n",
      "\n",
      "\n",
      "Group name: 71.0\n",
      "    Name   Age                        Email               Country    Salary  \\\n",
      "27  test  71.0  gillespiecalvin@example.net  Syrian Arab Republic  71049.67   \n",
      "\n",
      "          Date  \n",
      "27  2020-01-20  \n",
      "\n",
      "\n",
      "Group name: 72.0\n",
      "    Name   Age                Email  Country    Salary        Date\n",
      "97  test  72.0  brian50@example.com  Somalia  90628.22  2020-04-11\n",
      "\n",
      "\n",
      "Group name: 73.0\n",
      "               Name   Age                       Email  \\\n",
      "13   Jessica Rivera  73.0       fmitchell@example.net   \n",
      "16             test  73.0  johnstonkrista@example.com   \n",
      "76  Angela Thompson  73.0  petersonshelby@example.org   \n",
      "\n",
      "                     Country    Salary        Date  \n",
      "13  Central African Republic  71261.36  2021-05-18  \n",
      "16              Cook Islands  24176.12  2022-10-11  \n",
      "76                   Albania   4545.00  2023-05-09  \n",
      "\n",
      "\n",
      "Group name: 74.0\n",
      "               Name   Age                      Email Country    Salary  \\\n",
      "78  Tabitha Delgado  74.0  lancewilliams@example.net   Sudan  98396.21   \n",
      "86    David Randall  74.0         cody30@example.net    Niue  43013.14   \n",
      "\n",
      "          Date  \n",
      "78  2022-04-03  \n",
      "86  2024-05-24  \n",
      "\n",
      "\n",
      "Group name: 76.0\n",
      "                      Name   Age                        Email  \\\n",
      "7         Kimberly Roberts  76.0          lmiller@example.org   \n",
      "10           Olivia Strong  76.0  schultzpatricia@example.com   \n",
      "28           Ricardo Moody  76.0         xmorales@example.net   \n",
      "58  Dr. Olivia Caldwell MD  76.0   hernandezjason@example.com   \n",
      "92            Seth Bradley  76.0       melissakim@example.org   \n",
      "\n",
      "                       Country    Salary        Date  \n",
      "7                  Netherlands  58550.56  2023-07-08  \n",
      "10                South Africa  72362.02  2023-07-27  \n",
      "28                     Bahrain  83514.58  2024-03-29  \n",
      "58                 Philippines  78453.84  2023-07-19  \n",
      "92  Slovakia (Slovak Republic)  49354.13  2021-08-01  \n",
      "\n",
      "\n",
      "Group name: 77.0\n",
      "              Name   Age                     Email Country    Salary  \\\n",
      "18      Greg Gates  77.0            Test@gamil.com     NIC  54383.22   \n",
      "30  Raven Thompson  77.0  brandibarnes@example.com   Korea  76460.86   \n",
      "54       Julie Kim  77.0       rmorgan@example.net     NIC  46532.60   \n",
      "\n",
      "          Date  \n",
      "18  2024-05-13  \n",
      "30  2024-04-04  \n",
      "54  2021-03-07  \n",
      "\n",
      "\n",
      "Group name: 78.0\n",
      "          Name   Age           Email  Country    Salary        Date\n",
      "4  Julie Horne  78.0  Test@gamil.com  Ecuador  24665.13  2020-06-19\n",
      "\n",
      "\n",
      "Group name: 79.0\n",
      "            Name   Age               Email     Country    Salary        Date\n",
      "72  Morgan Brown  79.0  wsmith@example.org  Cape Verde  28583.22  2021-03-12\n",
      "\n",
      "\n",
      "Group name: 80.0\n",
      "               Name   Age                   Email                 Country  \\\n",
      "6       James Clark  80.0     ynguyen@example.net                     NIC   \n",
      "24       Amy Henson  80.0  tylerwatts@example.org  Bosnia and Herzegovina   \n",
      "39     Lauren Ramos  80.0    tracey07@example.net                  Zambia   \n",
      "82  Kristi Calderon  80.0    sharon04@example.com                 Iceland   \n",
      "\n",
      "      Salary        Date  \n",
      "6   61345.33  2024-04-04  \n",
      "24  35390.77  2023-12-11  \n",
      "39  74110.67  2024-04-04  \n",
      "82  99507.66  2022-07-09  \n",
      "\n",
      "\n",
      "Group name: invalid\n",
      "           Name      Age                 Email    Country   Salary        Date\n",
      "43  James Davis  invalid  teresa22@example.com  Mauritius  54801.7  2021-07-15\n",
      "\n",
      "\n"
     ]
    }
   ],
   "source": [
    "#Iterate over groups and display the group names and data.\n",
    "grouped = df.groupby('Age')\n",
    "# Iterate over groups and display group names and data\n",
    "for group_name, group_data in grouped:\n",
    "    print(f\"Group name: {group_name}\")\n",
    "    print(group_data)\n",
    "    print(\"\\n\")"
   ]
  },
  {
   "cell_type": "markdown",
   "metadata": {},
   "source": [
    "# Task 7: Merging and Joining DataFrames"
   ]
  },
  {
   "cell_type": "code",
   "execution_count": 72,
   "metadata": {},
   "outputs": [
    {
     "name": "stdout",
     "output_type": "stream",
     "text": [
      "First DataFrame:\n",
      "   ID Name  Age\n",
      "0   1    A   25\n",
      "1   2    B   30\n",
      "2   3    C   35\n",
      "3   4    D   40\n",
      "\n",
      "Second DataFrame:\n",
      "   ID City  Salary\n",
      "0   3    C   90000\n",
      "1   4    N   85000\n",
      "2   5    L   80000\n",
      "3   6    S   95000\n",
      "\n",
      "Merged DataFrame (inner join):\n",
      "   ID Name  Age City  Salary\n",
      "0   3    C   35    C   90000\n",
      "1   4    D   40    N   85000\n"
     ]
    }
   ],
   "source": [
    "# Merge two DataFrames on a common column.\n",
    "# Sample data for first DataFrame\n",
    "data1 = {\n",
    "    'ID': [1, 2, 3, 4],\n",
    "    'Name': ['A', 'B', 'C', 'D'],\n",
    "    'Age': [25, 30, 35, 40]\n",
    "}\n",
    "# Sample data for second DataFrame\n",
    "data2 = {\n",
    "    'ID': [3, 4, 5, 6],\n",
    "    'City': ['C', 'N', 'L', 'S'],\n",
    "    'Salary': [90000, 85000, 80000, 95000]\n",
    "}\n",
    "\n",
    "# Create DataFrames\n",
    "df1 = pd.DataFrame(data1)\n",
    "df2 = pd.DataFrame(data2)\n",
    "\n",
    "# Display the original DataFrames\n",
    "print(\"First DataFrame:\")\n",
    "print(df1)\n",
    "print(\"\\nSecond DataFrame:\")\n",
    "print(df2)\n",
    "\n",
    "# Merge the DataFrames on the 'ID' column\n",
    "merged_df = df1.merge(df2, on='ID', how='inner')\n",
    "\n",
    "# Display the merged DataFrame\n",
    "print(\"\\nMerged DataFrame (inner join):\")\n",
    "print(merged_df)\n"
   ]
  },
  {
   "cell_type": "code",
   "execution_count": 73,
   "metadata": {},
   "outputs": [
    {
     "name": "stdout",
     "output_type": "stream",
     "text": [
      "First DataFrame:\n",
      "  Name  Age\n",
      "A   Al   25\n",
      "B   Bb   30\n",
      "C   Ch   35\n",
      "\n",
      "Second DataFrame:\n",
      "   City  Salary\n",
      "A   New   70000\n",
      "B  Loss   80000\n",
      "C     o   90000\n",
      "\n",
      "Joined DataFrame:\n",
      "  Name  Age  City  Salary\n",
      "A   Al   25   New   70000\n",
      "B   Bb   30  Loss   80000\n",
      "C   Ch   35     o   90000\n"
     ]
    }
   ],
   "source": [
    "# Join two DataFrames using their indices.\n",
    "\n",
    "# Sample data for first DataFrame\n",
    "data1 = {\n",
    "    'Name': ['Al', 'Bb', 'Ch'],\n",
    "    'Age': [25, 30, 35]\n",
    "}\n",
    "\n",
    "# Sample data for second DataFrame\n",
    "data2 = {\n",
    "    'City': ['New', 'Loss', 'o'],\n",
    "    'Salary': [70000, 80000, 90000]\n",
    "}\n",
    "\n",
    "# Create DataFrames\n",
    "df1 = pd.DataFrame(data1, index=['A', 'B', 'C'])\n",
    "df2 = pd.DataFrame(data2, index=['A', 'B', 'C'])\n",
    "\n",
    "# Display the original DataFrames\n",
    "print(\"First DataFrame:\")\n",
    "print(df1)\n",
    "print(\"\\nSecond DataFrame:\")\n",
    "print(df2)\n",
    "\n",
    "# Join the DataFrames on their indices\n",
    "joined_df = df1.join(df2)\n",
    "\n",
    "# Display the joined DataFrame\n",
    "print(\"\\nJoined DataFrame:\")\n",
    "print(joined_df)\n"
   ]
  },
  {
   "cell_type": "markdown",
   "metadata": {},
   "source": [
    "# Task 8: Working with Dates and Times"
   ]
  },
  {
   "cell_type": "code",
   "execution_count": 74,
   "metadata": {},
   "outputs": [
    {
     "name": "stdout",
     "output_type": "stream",
     "text": [
      "            value\n",
      "date             \n",
      "2024-04-04      1\n",
      "2027-02-01      2\n",
      "2024-03-01     30\n",
      "\n",
      "\n",
      "Index([2024, 2027, 2024], dtype='int32', name='date')\n",
      "Index([4, 2, 3], dtype='int32', name='date')\n",
      "Index([4, 1, 1], dtype='int32', name='date')\n"
     ]
    }
   ],
   "source": [
    "# Create a datetime index for the DataFrame.\n",
    "dict_1 = {\n",
    "    'date' : ['2024-04-04', '2027-02-01', '2024-03-01'],\n",
    "    'value': [1, 2, 30]\n",
    "}\n",
    "\n",
    "df = pd.DataFrame(dict_1)\n",
    "\n",
    "df['date'] = pd.to_datetime(df['date'])\n",
    "\n",
    "df.set_index('date', inplace = True)\n",
    "\n",
    "print(df)\n",
    "print(\"\\n\")\n",
    "\n",
    "\n",
    "# Extracting year\n",
    "print(df.index.year)\n",
    "\n",
    "# Extracting month\n",
    "print(df.index.month)\n",
    "\n",
    "# Extracting day\n",
    "print(df.index.day)"
   ]
  },
  {
   "cell_type": "markdown",
   "metadata": {},
   "source": [
    "# Task 9: Input and Output"
   ]
  },
  {
   "cell_type": "code",
   "execution_count": 76,
   "metadata": {},
   "outputs": [
    {
     "name": "stdout",
     "output_type": "stream",
     "text": [
      "                Name   Age                Email      Country    Salary  \\\n",
      "0            invalid  59.0  ycastro@example.org  Switzerland  44694.24   \n",
      "1    David Jefferson  21.0                  NaN        China       NaN   \n",
      "2      Jessica Reyes  34.0                  NaN          NaN  60511.62   \n",
      "3  Kenneth Macdonald  68.0    ewolf@example.com        Italy  84223.29   \n",
      "4        Julie Horne  78.0                  NaN      Ecuador  24665.13   \n",
      "\n",
      "  DateOfJoining  \n",
      "0    2022-09-29  \n",
      "1    2021-10-04  \n",
      "2    2022-05-24  \n",
      "3    2022-04-07  \n",
      "4    2020-06-19  \n"
     ]
    }
   ],
   "source": [
    "# Read data from a CSV file into a DataFrame.\n",
    "df = pd.read_csv('messed_dataset.csv')\n",
    "print(df.head())\n"
   ]
  },
  {
   "cell_type": "code",
   "execution_count": 77,
   "metadata": {},
   "outputs": [],
   "source": [
    "# Write DataFrame to CSV\n",
    "df.to_csv('Copymessed_dataset.csv')"
   ]
  },
  {
   "cell_type": "code",
   "execution_count": 80,
   "metadata": {},
   "outputs": [
    {
     "name": "stdout",
     "output_type": "stream",
     "text": [
      "   OrderDate   Region  Manager   SalesMan          Item  Units  Unit_price  \\\n",
      "0 2018-01-06     East   Martha  Alexander    Television   95.0      1198.0   \n",
      "1 2018-01-23  Central  Hermann     Shelli  Home Theater   50.0       500.0   \n",
      "2 2018-02-09  Central  Hermann       Luis    Television   36.0      1198.0   \n",
      "3 2018-02-26  Central  Timothy      David    Cell Phone   27.0       225.0   \n",
      "4 2018-03-15     West  Timothy    Stephen    Television   56.0      1198.0   \n",
      "5 2018-04-01     East   Martha  Alexander  Home Theater   60.0       500.0   \n",
      "6 2018-04-18  Central   Martha     Steven    Television   75.0      1198.0   \n",
      "7 2018-05-05  Central  Hermann       Luis    Television   90.0      1198.0   \n",
      "8 2018-05-22     West  Douglas    Michael    Television   32.0      1198.0   \n",
      "9 2018-06-08     East   Martha  Alexander  Home Theater   60.0       500.0   \n",
      "\n",
      "   Sale_amt  \n",
      "0  113810.0  \n",
      "1   25000.0  \n",
      "2   43128.0  \n",
      "3    6075.0  \n",
      "4   67088.0  \n",
      "5   30000.0  \n",
      "6   89850.0  \n",
      "7  107820.0  \n",
      "8   38336.0  \n",
      "9   30000.0  \n"
     ]
    }
   ],
   "source": [
    "# Read Excel\n",
    "df = pd.read_excel('SaleData.xlsx')\n",
    "print(df.head(10))"
   ]
  },
  {
   "cell_type": "code",
   "execution_count": 79,
   "metadata": {},
   "outputs": [],
   "source": [
    "# Write DataFrame to Excel\n",
    "df.to_excel('CopySaleData.xlsx')"
   ]
  },
  {
   "cell_type": "markdown",
   "metadata": {},
   "source": [
    "# Task 10: Visualization"
   ]
  },
  {
   "cell_type": "code",
   "execution_count": 82,
   "metadata": {},
   "outputs": [],
   "source": [
    "import matplotlib.pyplot as plt\n",
    "import seaborn as sns\n"
   ]
  },
  {
   "cell_type": "code",
   "execution_count": 83,
   "metadata": {},
   "outputs": [
    {
     "name": "stdout",
     "output_type": "stream",
     "text": [
      "   OrderDate   Region  Manager   SalesMan          Item  Units  Unit_price  \\\n",
      "0 2018-01-06     East   Martha  Alexander    Television   95.0      1198.0   \n",
      "1 2018-01-23  Central  Hermann     Shelli  Home Theater   50.0       500.0   \n",
      "2 2018-02-09  Central  Hermann       Luis    Television   36.0      1198.0   \n",
      "3 2018-02-26  Central  Timothy      David    Cell Phone   27.0       225.0   \n",
      "4 2018-03-15     West  Timothy    Stephen    Television   56.0      1198.0   \n",
      "\n",
      "   Sale_amt  \n",
      "0  113810.0  \n",
      "1   25000.0  \n",
      "2   43128.0  \n",
      "3    6075.0  \n",
      "4   67088.0  \n"
     ]
    },
    {
     "data": {
      "image/png": "[encoded data removed]",
      "text/plain": [
       "<Figure size 1000x600 with 1 Axes>"
      ]
     },
     "metadata": {},
     "output_type": "display_data"
    }
   ],
   "source": [
    "# Create a simple plot using Matplotlib.\n",
    "df = pd.read_excel('SaleData.xlsx')\n",
    "print (df.head())\n",
    "plt.figure(figsize = (10, 6))\n",
    "plt.scatter(df['Units'], df['Unit_price'])\n",
    "plt.title('Units versus Unit_price')\n",
    "plt.xlabel('Units')\n",
    "plt.ylabel('Unit_price')\n",
    "plt.show()"
   ]
  },
  {
   "cell_type": "code",
   "execution_count": 89,
   "metadata": {},
   "outputs": [
    {
     "data": {
      "image/png": "[encoded data removed]",
      "text/plain": [
       "<Figure size 1000x500 with 1 Axes>"
      ]
     },
     "metadata": {},
     "output_type": "display_data"
    }
   ],
   "source": [
    "df=df.head(10)\n",
    "plt.figure(figsize=(10,5))\n",
    "sns.barplot(x='Item', y ='Unit_price', data = df)\n",
    "plt.title('Expense on purchases')\n",
    "plt.xlabel('Purchases')\n",
    "plt.ylabel('Amount')\n",
    "plt.show()"
   ]
  }
 ],
 "metadata": {
  "kernelspec": {
   "display_name": "Python 3 (ipykernel)",
   "language": "python",
   "name": "python3"
  },
  "language_info": {
   "codemirror_mode": {
    "name": "ipython",
    "version": 3
   },
   "file_extension": ".py",
   "mimetype": "text/x-python",
   "name": "python",
   "nbconvert_exporter": "python",
   "pygments_lexer": "ipython3",
   "version": "3.12.2"
  }
 },
 "nbformat": 4,
 "nbformat_minor": 4
}
